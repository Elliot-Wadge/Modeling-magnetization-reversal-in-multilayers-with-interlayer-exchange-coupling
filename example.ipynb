{
 "cells": [
  {
   "cell_type": "code",
   "execution_count": 2,
   "metadata": {},
   "outputs": [],
   "source": [
    "import numpy as np\n",
    "from scipy.optimize import curve_fit\n",
    "import plotly.graph_objects as go\n",
    "import plotly.io as pio\n",
    "pio.templates.default = 'simple_white'\n",
    "from dataclasses import dataclass\n",
    "\n",
    "from energy import energy_asymmetric, energy_distribution, energy_M\n",
    "from continuous import continuous_distribution, continuous_M, continuous_shoot\n",
    "from torque import torque_distribution, torque_M, torque_shoot, first_point, propagate, boundary\n",
    "from continuous_root import root_v2\n"
   ]
  },
  {
   "cell_type": "markdown",
   "metadata": {},
   "source": [
    "# Model Comparison For Known Values"
   ]
  },
  {
   "cell_type": "code",
   "execution_count": 3,
   "metadata": {},
   "outputs": [],
   "source": [
    "@np.vectorize\n",
    "def A1_func(x):\n",
    "    #defined such that x=0 is the edge of the Ms1\n",
    "    if x < 2:\n",
    "        return 3\n",
    "    elif x < 3:\n",
    "        return 2\n",
    "    else:\n",
    "        return 1\n",
    "    \n",
    "@np.vectorize\n",
    "def Ms1_func(x):\n",
    "    #defined such that x=0 is the edge of the Ms1\n",
    "    if x < 2:\n",
    "        return 1.5\n",
    "    elif x < 3:\n",
    "        return 1\n",
    "    else:\n",
    "        return 0.5\n",
    "    \n",
    "    \n",
    "\n",
    "@np.vectorize\n",
    "def A2_func(x):\n",
    "    #defined such that x=0 is at the interface of Ms2\n",
    "    if x < 2:\n",
    "        return 1\n",
    "    else:\n",
    "        return 3\n",
    "    \n",
    "@np.vectorize\n",
    "def Ms2_func(x):\n",
    "    #defined such that x=0 is at the interface of Ms2\n",
    "    if x < 2:\n",
    "        return 0.5\n",
    "    else:\n",
    "        return 1.5"
   ]
  },
  {
   "cell_type": "code",
   "execution_count": 4,
   "metadata": {},
   "outputs": [],
   "source": [
    "H = 1\n",
    "\n",
    "Ms1 = 1.5\n",
    "Ms2 = 1.5\n",
    "ht1 = 4\n",
    "ht2 = 4\n",
    "d = 2\n",
    "N1 = int(ht1*10/d)\n",
    "N2 = int(ht2*10/d)\n",
    "discrete_x1 = np.linspace(0,ht1,N1)\n",
    "discrete_x2 = np.linspace(0,ht2,N2)\n",
    "\n",
    "\n",
    "A1 = A1_func(discrete_x1[:-1])\n",
    "A2 = A2_func(discrete_x2[:-1])\n",
    "# A1 = A1_60*np.ones(N1-1)\n",
    "# A2 = A2_60*np.ones(N2-1)\n",
    "d_x = np.linspace(0,ht1+ht2,(N1+N2))-4\n",
    "\n",
    "\n",
    "\n",
    "Ms2 = Ms2_func(discrete_x2)\n",
    "Ms1 = Ms1_func(discrete_x2)\n",
    "# Ms1 = Ms1_60*np.ones(N1)\n",
    "# Ms2 = Ms2_60*np.ones(N2)\n",
    "a1 = d\n",
    "a2 = d\n",
    "J1 = 1.5\n",
    "J2 = 1.5\n",
    "\n",
    "\n",
    "t_args = (H, J1, J2, A1, A2, N1, N2, Ms1, Ms2, a1, a2)\n",
    "e_args = (H, J1, J2, N1, N2, A1, A2, Ms1, Ms2, a1)\n",
    "# phi0, H, J1, J2, A1, A2, Ms1, Ms2, half_thickness1, half_thickness2\n",
    "c_args = (H, J1, J2, A1_func, A2_func, Ms1_func, Ms2_func, ht1, ht2)"
   ]
  },
  {
   "cell_type": "code",
   "execution_count": 5,
   "metadata": {},
   "outputs": [
    {
     "name": "stdout",
     "output_type": "stream",
     "text": [
      "[0.468      0.4684511  0.46935371 0.47070863 0.47251706 0.47478063\n",
      " 0.47750134 0.48068161 0.48432427 0.48843255 0.49301007 0.50034967\n",
      " 0.50816902 0.51647497 0.52527475 0.534576   0.55368887 0.57332767\n",
      " 0.59350901 0.61424974 0.72435284 0.70369843 0.6836912  0.66431575\n",
      " 0.64555694 0.62739987 0.60982993 0.59283281 0.57639448 0.56050123\n",
      " 0.54513965 0.54053784 0.53645064 0.53287453 0.52980644 0.52724371\n",
      " 0.52518414 0.52362594 0.52256777 0.5220087 ]\n",
      "final condition 1.5\n",
      "thetad  = 0.52200869751212\n",
      "thetad_1 = 0.5225677654735018\n",
      "A = 300\n",
      "a = 2.0\n",
      "Ms = 0.15000000000000002\n",
      "-0.018133683534510586\n"
     ]
    }
   ],
   "source": [
    "theta0 = 0.468\n",
    "print(torque_distribution(theta0, *t_args))\n",
    "print(torque_shoot(theta0, *t_args, show=True))"
   ]
  },
  {
   "cell_type": "code",
   "execution_count": 6,
   "metadata": {},
   "outputs": [
    {
     "name": "stdout",
     "output_type": "stream",
     "text": [
      "0.46694620342380944\n",
      "0.001 (0.001, 0.5795278774825392)\n",
      "guess=0.5795278774825392, new_min=8.261175321599978e-08, found_min=8.261175321599978e-08, False\n"
     ]
    }
   ],
   "source": [
    "# energy minimization sometimes finds solutions not between 0 and 2pi, have to bound but haven't yet\n",
    "energy_theta = energy_distribution(*e_args)%(np.pi)\n",
    "energy_theta = np.where(energy_theta < np.pi/2, energy_theta, np.pi-energy_theta)\n",
    "print(energy_theta[0])\n",
    "\n",
    "\n",
    "torque_theta0 = root_v2(torque_shoot, 1e-3, np.pi+1e-3, tol=1e-7, args=t_args, show=True)\n",
    "torque_theta = torque_distribution(torque_theta0, *t_args)\n",
    "\n",
    "\n",
    "continuous_theta0 = root_v2(continuous_shoot, 1e-5, np.pi+1e-3, tol=1e-6, step=1e-2, args=c_args)[0]\n",
    "c_x, continuous_theta, _ = continuous_distribution(continuous_theta0, *c_args)\n",
    "\n",
    "\n",
    "\n",
    "\n"
   ]
  },
  {
   "cell_type": "code",
   "execution_count": 7,
   "metadata": {},
   "outputs": [
    {
     "data": {
      "application/vnd.plotly.v1+json": {
       "config": {
        "plotlyServerURL": "https://plot.ly"
       },
       "data": [
        {
         "marker": {
          "size": 9,
          "symbol": "diamond"
         },
         "mode": "markers",
         "name": "Disc. Torque",
         "type": "scatter",
         "x": [
          -4,
          -3.7948717948717947,
          -3.58974358974359,
          -3.3846153846153846,
          -3.1794871794871797,
          -2.9743589743589745,
          -2.769230769230769,
          -2.564102564102564,
          -2.358974358974359,
          -2.153846153846154,
          -1.948717948717949,
          -1.7435897435897436,
          -1.5384615384615383,
          -1.3333333333333335,
          -1.1282051282051282,
          -0.9230769230769234,
          -0.7179487179487181,
          -0.5128205128205128,
          -0.30769230769230793,
          -0.10256410256410264,
          0.1025641025641022,
          0.3076923076923075,
          0.5128205128205128,
          0.7179487179487181,
          0.9230769230769234,
          1.1282051282051277,
          1.333333333333333,
          1.5384615384615383,
          1.7435897435897436,
          1.948717948717949,
          2.1538461538461533,
          2.3589743589743586,
          2.564102564102564,
          2.769230769230769,
          2.9743589743589745,
          3.179487179487179,
          3.384615384615384,
          3.5897435897435894,
          3.7948717948717947,
          4
         ],
         "y": [
          26.7516277171246,
          26.777417912539068,
          26.829021335760935,
          26.906484056481084,
          27.009875191362905,
          27.13928691821402,
          27.294834494244263,
          27.476656277856964,
          27.684913753274298,
          27.919791557146073,
          28.181497506133223,
          28.6011176725258,
          29.048166628089106,
          29.523036147049016,
          30.02614053364095,
          30.55791661489054,
          31.65064944467572,
          32.77345320375623,
          33.92727836175379,
          35.1130892652827,
          41.69470919126287,
          40.51405424612901,
          39.37062827620075,
          38.26355399537224,
          37.19196824256475,
          36.15502293401518,
          35.151885890553146,
          34.181741550187795,
          33.24379157576299,
          32.337255366875695,
          31.46137048469397,
          31.199323333925896,
          30.966956642261174,
          30.764071342974827,
          30.590493230208594,
          30.446072971470688,
          30.33068611582978,
          30.244233098980697,
          30.186639246150968,
          30.15785477361596
         ]
        },
        {
         "mode": "markers",
         "name": "Energy",
         "type": "scatter",
         "x": [
          -4,
          -3.7948717948717947,
          -3.58974358974359,
          -3.3846153846153846,
          -3.1794871794871797,
          -2.9743589743589745,
          -2.769230769230769,
          -2.564102564102564,
          -2.358974358974359,
          -2.153846153846154,
          -1.948717948717949,
          -1.7435897435897436,
          -1.5384615384615383,
          -1.3333333333333335,
          -1.1282051282051282,
          -0.9230769230769234,
          -0.7179487179487181,
          -0.5128205128205128,
          -0.30769230769230793,
          -0.10256410256410264,
          0.1025641025641022,
          0.3076923076923075,
          0.5128205128205128,
          0.7179487179487181,
          0.9230769230769234,
          1.1282051282051277,
          1.333333333333333,
          1.5384615384615383,
          1.7435897435897436,
          1.948717948717949,
          2.1538461538461533,
          2.3589743589743586,
          2.564102564102564,
          2.769230769230769,
          2.9743589743589745,
          3.179487179487179,
          3.384615384615384,
          3.5897435897435894,
          3.7948717948717947,
          4
         ],
         "y": [
          26.754046715841472,
          26.779823704444926,
          26.831384656970577,
          26.90879483711148,
          27.0121375342552,
          27.141503807820694,
          27.29700149173793,
          27.478779278253654,
          27.686989147959846,
          27.9218342246885,
          28.183496956541756,
          28.603033097077258,
          29.05002440093947,
          29.524816153550063,
          30.02786418962265,
          30.55960102243177,
          31.652260891965437,
          32.774996460182656,
          33.92873270877562,
          35.114469099066945,
          41.69374720879449,
          40.51316365385582,
          39.36978177649092,
          38.262730747750304,
          37.19118525460794,
          36.15428609502815,
          35.15124442255703,
          34.18115701396628,
          33.24321940098495,
          32.33668042456561,
          31.46078896915393,
          31.198734786986297,
          30.966354369814486,
          30.76345380676017,
          30.589868451006794,
          30.445444843361262,
          30.3300678778232,
          30.24361115213128,
          30.186021234884343,
          30.157236696077387
         ]
        },
        {
         "line": {
          "color": "red"
         },
         "mode": "lines",
         "name": "Cont. Torque",
         "type": "scatter",
         "x": [
          -4,
          -3.7783347257031465,
          -3.5566694514062935,
          -3.3350041771094405,
          -3.113338902812587,
          -2.8916736285157336,
          -2.6700083542188806,
          -2.4483430799220276,
          -2.226677805625174,
          -2.0050125313283207,
          -2.0050125313283207,
          -1.893622946254525,
          -1.7822333611807295,
          -1.670843776106934,
          -1.5594541910331383,
          -1.4480646059593427,
          -1.3366750208855471,
          -1.2252854358117515,
          -1.113895850737956,
          -1.0025062656641603,
          -1.0025062656641603,
          -0.8911166805903648,
          -0.7797270955165692,
          -0.6683375104427736,
          -0.556947925368978,
          -0.4455583402951824,
          -0.3341687552213868,
          -0.2227791701475912,
          -0.1113895850737956,
          0,
          0,
          0.22166527429685345,
          0.4433305485937069,
          0.6649958228905595,
          0.8866610971874129,
          1.1083263714842664,
          1.329991645781119,
          1.5516569200779724,
          1.7733221943748259,
          1.9949874686716793,
          1.9949874686716793,
          2.2177666388192705,
          2.4405458089668617,
          2.663324979114453,
          2.886104149262044,
          3.1088833194096352,
          3.3316624895572264,
          3.5544416597048176,
          3.777220829852409,
          4
         ],
         "y": [
          26.4264116258146,
          26.44207460967504,
          26.48908080453306,
          26.567481916994076,
          26.67736401929405,
          26.81884774854692,
          26.992088526570857,
          27.197276240176834,
          27.43463522808839,
          27.70442428094164,
          27.70442428094164,
          27.924385048721987,
          28.152669031373673,
          28.389338725464025,
          28.634458779364188,
          28.888096005097424,
          29.150319378339113,
          29.421200033529143,
          29.70081125015339,
          29.98922847001571,
          29.98922847001571,
          30.579652511340097,
          31.179118250655087,
          31.787785268552273,
          32.40581456827982,
          33.03336856791614,
          33.6706110417638,
          34.31770708155819,
          34.97482308318683,
          35.64212674632619,
          41.64291381973109,
          40.3279106503492,
          39.05845724362883,
          37.83335238766239,
          36.65141676021698,
          35.51149721881398,
          34.412464562091195,
          33.3532135135364,
          32.33266272148729,
          31.349754759131436,
          31.349754759131436,
          31.044582721314146,
          30.77607559376693,
          30.54394756388443,
          30.347950340172837,
          30.187874574004137,
          30.063549439235512,
          29.974841729205835,
          29.92165585673568,
          29.9039338541273
         ]
        }
       ],
       "layout": {
        "annotations": [
         {
          "font": {
           "size": 25
          },
          "showarrow": false,
          "text": "SL",
          "x": 0,
          "xanchor": "left",
          "y": 0.1,
          "yref": "y domain"
         }
        ],
        "font": {
         "size": 22
        },
        "height": 500,
        "legend": {
         "xanchor": "right"
        },
        "shapes": [
         {
          "line": {
           "dash": "dash",
           "width": 2
          },
          "opacity": 1,
          "type": "line",
          "x0": 0,
          "x1": 0,
          "xref": "x",
          "y0": 0,
          "y1": 1,
          "yref": "y domain"
         }
        ],
        "template": {
         "data": {
          "bar": [
           {
            "error_x": {
             "color": "rgb(36,36,36)"
            },
            "error_y": {
             "color": "rgb(36,36,36)"
            },
            "marker": {
             "line": {
              "color": "white",
              "width": 0.5
             },
             "pattern": {
              "fillmode": "overlay",
              "size": 10,
              "solidity": 0.2
             }
            },
            "type": "bar"
           }
          ],
          "barpolar": [
           {
            "marker": {
             "line": {
              "color": "white",
              "width": 0.5
             },
             "pattern": {
              "fillmode": "overlay",
              "size": 10,
              "solidity": 0.2
             }
            },
            "type": "barpolar"
           }
          ],
          "carpet": [
           {
            "aaxis": {
             "endlinecolor": "rgb(36,36,36)",
             "gridcolor": "white",
             "linecolor": "white",
             "minorgridcolor": "white",
             "startlinecolor": "rgb(36,36,36)"
            },
            "baxis": {
             "endlinecolor": "rgb(36,36,36)",
             "gridcolor": "white",
             "linecolor": "white",
             "minorgridcolor": "white",
             "startlinecolor": "rgb(36,36,36)"
            },
            "type": "carpet"
           }
          ],
          "choropleth": [
           {
            "colorbar": {
             "outlinewidth": 1,
             "tickcolor": "rgb(36,36,36)",
             "ticks": "outside"
            },
            "type": "choropleth"
           }
          ],
          "contour": [
           {
            "colorbar": {
             "outlinewidth": 1,
             "tickcolor": "rgb(36,36,36)",
             "ticks": "outside"
            },
            "colorscale": [
             [
              0,
              "#440154"
             ],
             [
              0.1111111111111111,
              "#482878"
             ],
             [
              0.2222222222222222,
              "#3e4989"
             ],
             [
              0.3333333333333333,
              "#31688e"
             ],
             [
              0.4444444444444444,
              "#26828e"
             ],
             [
              0.5555555555555556,
              "#1f9e89"
             ],
             [
              0.6666666666666666,
              "#35b779"
             ],
             [
              0.7777777777777778,
              "#6ece58"
             ],
             [
              0.8888888888888888,
              "#b5de2b"
             ],
             [
              1,
              "#fde725"
             ]
            ],
            "type": "contour"
           }
          ],
          "contourcarpet": [
           {
            "colorbar": {
             "outlinewidth": 1,
             "tickcolor": "rgb(36,36,36)",
             "ticks": "outside"
            },
            "type": "contourcarpet"
           }
          ],
          "heatmap": [
           {
            "colorbar": {
             "outlinewidth": 1,
             "tickcolor": "rgb(36,36,36)",
             "ticks": "outside"
            },
            "colorscale": [
             [
              0,
              "#440154"
             ],
             [
              0.1111111111111111,
              "#482878"
             ],
             [
              0.2222222222222222,
              "#3e4989"
             ],
             [
              0.3333333333333333,
              "#31688e"
             ],
             [
              0.4444444444444444,
              "#26828e"
             ],
             [
              0.5555555555555556,
              "#1f9e89"
             ],
             [
              0.6666666666666666,
              "#35b779"
             ],
             [
              0.7777777777777778,
              "#6ece58"
             ],
             [
              0.8888888888888888,
              "#b5de2b"
             ],
             [
              1,
              "#fde725"
             ]
            ],
            "type": "heatmap"
           }
          ],
          "heatmapgl": [
           {
            "colorbar": {
             "outlinewidth": 1,
             "tickcolor": "rgb(36,36,36)",
             "ticks": "outside"
            },
            "colorscale": [
             [
              0,
              "#440154"
             ],
             [
              0.1111111111111111,
              "#482878"
             ],
             [
              0.2222222222222222,
              "#3e4989"
             ],
             [
              0.3333333333333333,
              "#31688e"
             ],
             [
              0.4444444444444444,
              "#26828e"
             ],
             [
              0.5555555555555556,
              "#1f9e89"
             ],
             [
              0.6666666666666666,
              "#35b779"
             ],
             [
              0.7777777777777778,
              "#6ece58"
             ],
             [
              0.8888888888888888,
              "#b5de2b"
             ],
             [
              1,
              "#fde725"
             ]
            ],
            "type": "heatmapgl"
           }
          ],
          "histogram": [
           {
            "marker": {
             "line": {
              "color": "white",
              "width": 0.6
             }
            },
            "type": "histogram"
           }
          ],
          "histogram2d": [
           {
            "colorbar": {
             "outlinewidth": 1,
             "tickcolor": "rgb(36,36,36)",
             "ticks": "outside"
            },
            "colorscale": [
             [
              0,
              "#440154"
             ],
             [
              0.1111111111111111,
              "#482878"
             ],
             [
              0.2222222222222222,
              "#3e4989"
             ],
             [
              0.3333333333333333,
              "#31688e"
             ],
             [
              0.4444444444444444,
              "#26828e"
             ],
             [
              0.5555555555555556,
              "#1f9e89"
             ],
             [
              0.6666666666666666,
              "#35b779"
             ],
             [
              0.7777777777777778,
              "#6ece58"
             ],
             [
              0.8888888888888888,
              "#b5de2b"
             ],
             [
              1,
              "#fde725"
             ]
            ],
            "type": "histogram2d"
           }
          ],
          "histogram2dcontour": [
           {
            "colorbar": {
             "outlinewidth": 1,
             "tickcolor": "rgb(36,36,36)",
             "ticks": "outside"
            },
            "colorscale": [
             [
              0,
              "#440154"
             ],
             [
              0.1111111111111111,
              "#482878"
             ],
             [
              0.2222222222222222,
              "#3e4989"
             ],
             [
              0.3333333333333333,
              "#31688e"
             ],
             [
              0.4444444444444444,
              "#26828e"
             ],
             [
              0.5555555555555556,
              "#1f9e89"
             ],
             [
              0.6666666666666666,
              "#35b779"
             ],
             [
              0.7777777777777778,
              "#6ece58"
             ],
             [
              0.8888888888888888,
              "#b5de2b"
             ],
             [
              1,
              "#fde725"
             ]
            ],
            "type": "histogram2dcontour"
           }
          ],
          "mesh3d": [
           {
            "colorbar": {
             "outlinewidth": 1,
             "tickcolor": "rgb(36,36,36)",
             "ticks": "outside"
            },
            "type": "mesh3d"
           }
          ],
          "parcoords": [
           {
            "line": {
             "colorbar": {
              "outlinewidth": 1,
              "tickcolor": "rgb(36,36,36)",
              "ticks": "outside"
             }
            },
            "type": "parcoords"
           }
          ],
          "pie": [
           {
            "automargin": true,
            "type": "pie"
           }
          ],
          "scatter": [
           {
            "fillpattern": {
             "fillmode": "overlay",
             "size": 10,
             "solidity": 0.2
            },
            "type": "scatter"
           }
          ],
          "scatter3d": [
           {
            "line": {
             "colorbar": {
              "outlinewidth": 1,
              "tickcolor": "rgb(36,36,36)",
              "ticks": "outside"
             }
            },
            "marker": {
             "colorbar": {
              "outlinewidth": 1,
              "tickcolor": "rgb(36,36,36)",
              "ticks": "outside"
             }
            },
            "type": "scatter3d"
           }
          ],
          "scattercarpet": [
           {
            "marker": {
             "colorbar": {
              "outlinewidth": 1,
              "tickcolor": "rgb(36,36,36)",
              "ticks": "outside"
             }
            },
            "type": "scattercarpet"
           }
          ],
          "scattergeo": [
           {
            "marker": {
             "colorbar": {
              "outlinewidth": 1,
              "tickcolor": "rgb(36,36,36)",
              "ticks": "outside"
             }
            },
            "type": "scattergeo"
           }
          ],
          "scattergl": [
           {
            "marker": {
             "colorbar": {
              "outlinewidth": 1,
              "tickcolor": "rgb(36,36,36)",
              "ticks": "outside"
             }
            },
            "type": "scattergl"
           }
          ],
          "scattermapbox": [
           {
            "marker": {
             "colorbar": {
              "outlinewidth": 1,
              "tickcolor": "rgb(36,36,36)",
              "ticks": "outside"
             }
            },
            "type": "scattermapbox"
           }
          ],
          "scatterpolar": [
           {
            "marker": {
             "colorbar": {
              "outlinewidth": 1,
              "tickcolor": "rgb(36,36,36)",
              "ticks": "outside"
             }
            },
            "type": "scatterpolar"
           }
          ],
          "scatterpolargl": [
           {
            "marker": {
             "colorbar": {
              "outlinewidth": 1,
              "tickcolor": "rgb(36,36,36)",
              "ticks": "outside"
             }
            },
            "type": "scatterpolargl"
           }
          ],
          "scatterternary": [
           {
            "marker": {
             "colorbar": {
              "outlinewidth": 1,
              "tickcolor": "rgb(36,36,36)",
              "ticks": "outside"
             }
            },
            "type": "scatterternary"
           }
          ],
          "surface": [
           {
            "colorbar": {
             "outlinewidth": 1,
             "tickcolor": "rgb(36,36,36)",
             "ticks": "outside"
            },
            "colorscale": [
             [
              0,
              "#440154"
             ],
             [
              0.1111111111111111,
              "#482878"
             ],
             [
              0.2222222222222222,
              "#3e4989"
             ],
             [
              0.3333333333333333,
              "#31688e"
             ],
             [
              0.4444444444444444,
              "#26828e"
             ],
             [
              0.5555555555555556,
              "#1f9e89"
             ],
             [
              0.6666666666666666,
              "#35b779"
             ],
             [
              0.7777777777777778,
              "#6ece58"
             ],
             [
              0.8888888888888888,
              "#b5de2b"
             ],
             [
              1,
              "#fde725"
             ]
            ],
            "type": "surface"
           }
          ],
          "table": [
           {
            "cells": {
             "fill": {
              "color": "rgb(237,237,237)"
             },
             "line": {
              "color": "white"
             }
            },
            "header": {
             "fill": {
              "color": "rgb(217,217,217)"
             },
             "line": {
              "color": "white"
             }
            },
            "type": "table"
           }
          ]
         },
         "layout": {
          "annotationdefaults": {
           "arrowhead": 0,
           "arrowwidth": 1
          },
          "autotypenumbers": "strict",
          "coloraxis": {
           "colorbar": {
            "outlinewidth": 1,
            "tickcolor": "rgb(36,36,36)",
            "ticks": "outside"
           }
          },
          "colorscale": {
           "diverging": [
            [
             0,
             "rgb(103,0,31)"
            ],
            [
             0.1,
             "rgb(178,24,43)"
            ],
            [
             0.2,
             "rgb(214,96,77)"
            ],
            [
             0.3,
             "rgb(244,165,130)"
            ],
            [
             0.4,
             "rgb(253,219,199)"
            ],
            [
             0.5,
             "rgb(247,247,247)"
            ],
            [
             0.6,
             "rgb(209,229,240)"
            ],
            [
             0.7,
             "rgb(146,197,222)"
            ],
            [
             0.8,
             "rgb(67,147,195)"
            ],
            [
             0.9,
             "rgb(33,102,172)"
            ],
            [
             1,
             "rgb(5,48,97)"
            ]
           ],
           "sequential": [
            [
             0,
             "#440154"
            ],
            [
             0.1111111111111111,
             "#482878"
            ],
            [
             0.2222222222222222,
             "#3e4989"
            ],
            [
             0.3333333333333333,
             "#31688e"
            ],
            [
             0.4444444444444444,
             "#26828e"
            ],
            [
             0.5555555555555556,
             "#1f9e89"
            ],
            [
             0.6666666666666666,
             "#35b779"
            ],
            [
             0.7777777777777778,
             "#6ece58"
            ],
            [
             0.8888888888888888,
             "#b5de2b"
            ],
            [
             1,
             "#fde725"
            ]
           ],
           "sequentialminus": [
            [
             0,
             "#440154"
            ],
            [
             0.1111111111111111,
             "#482878"
            ],
            [
             0.2222222222222222,
             "#3e4989"
            ],
            [
             0.3333333333333333,
             "#31688e"
            ],
            [
             0.4444444444444444,
             "#26828e"
            ],
            [
             0.5555555555555556,
             "#1f9e89"
            ],
            [
             0.6666666666666666,
             "#35b779"
            ],
            [
             0.7777777777777778,
             "#6ece58"
            ],
            [
             0.8888888888888888,
             "#b5de2b"
            ],
            [
             1,
             "#fde725"
            ]
           ]
          },
          "colorway": [
           "#1F77B4",
           "#FF7F0E",
           "#2CA02C",
           "#D62728",
           "#9467BD",
           "#8C564B",
           "#E377C2",
           "#7F7F7F",
           "#BCBD22",
           "#17BECF"
          ],
          "font": {
           "color": "rgb(36,36,36)"
          },
          "geo": {
           "bgcolor": "white",
           "lakecolor": "white",
           "landcolor": "white",
           "showlakes": true,
           "showland": true,
           "subunitcolor": "white"
          },
          "hoverlabel": {
           "align": "left"
          },
          "hovermode": "closest",
          "mapbox": {
           "style": "light"
          },
          "paper_bgcolor": "white",
          "plot_bgcolor": "white",
          "polar": {
           "angularaxis": {
            "gridcolor": "rgb(232,232,232)",
            "linecolor": "rgb(36,36,36)",
            "showgrid": false,
            "showline": true,
            "ticks": "outside"
           },
           "bgcolor": "white",
           "radialaxis": {
            "gridcolor": "rgb(232,232,232)",
            "linecolor": "rgb(36,36,36)",
            "showgrid": false,
            "showline": true,
            "ticks": "outside"
           }
          },
          "scene": {
           "xaxis": {
            "backgroundcolor": "white",
            "gridcolor": "rgb(232,232,232)",
            "gridwidth": 2,
            "linecolor": "rgb(36,36,36)",
            "showbackground": true,
            "showgrid": false,
            "showline": true,
            "ticks": "outside",
            "zeroline": false,
            "zerolinecolor": "rgb(36,36,36)"
           },
           "yaxis": {
            "backgroundcolor": "white",
            "gridcolor": "rgb(232,232,232)",
            "gridwidth": 2,
            "linecolor": "rgb(36,36,36)",
            "showbackground": true,
            "showgrid": false,
            "showline": true,
            "ticks": "outside",
            "zeroline": false,
            "zerolinecolor": "rgb(36,36,36)"
           },
           "zaxis": {
            "backgroundcolor": "white",
            "gridcolor": "rgb(232,232,232)",
            "gridwidth": 2,
            "linecolor": "rgb(36,36,36)",
            "showbackground": true,
            "showgrid": false,
            "showline": true,
            "ticks": "outside",
            "zeroline": false,
            "zerolinecolor": "rgb(36,36,36)"
           }
          },
          "shapedefaults": {
           "fillcolor": "black",
           "line": {
            "width": 0
           },
           "opacity": 0.3
          },
          "ternary": {
           "aaxis": {
            "gridcolor": "rgb(232,232,232)",
            "linecolor": "rgb(36,36,36)",
            "showgrid": false,
            "showline": true,
            "ticks": "outside"
           },
           "baxis": {
            "gridcolor": "rgb(232,232,232)",
            "linecolor": "rgb(36,36,36)",
            "showgrid": false,
            "showline": true,
            "ticks": "outside"
           },
           "bgcolor": "white",
           "caxis": {
            "gridcolor": "rgb(232,232,232)",
            "linecolor": "rgb(36,36,36)",
            "showgrid": false,
            "showline": true,
            "ticks": "outside"
           }
          },
          "title": {
           "x": 0.05
          },
          "xaxis": {
           "automargin": true,
           "gridcolor": "rgb(232,232,232)",
           "linecolor": "rgb(36,36,36)",
           "showgrid": false,
           "showline": true,
           "ticks": "outside",
           "title": {
            "standoff": 15
           },
           "zeroline": false,
           "zerolinecolor": "rgb(36,36,36)"
          },
          "yaxis": {
           "automargin": true,
           "gridcolor": "rgb(232,232,232)",
           "linecolor": "rgb(36,36,36)",
           "showgrid": false,
           "showline": true,
           "ticks": "outside",
           "title": {
            "standoff": 15
           },
           "zeroline": false,
           "zerolinecolor": "rgb(36,36,36)"
          }
         }
        },
        "width": 1200,
        "xaxis": {
         "title": {
          "text": "x [nm]"
         }
        },
        "yaxis": {
         "title": {
          "text": "Angle [deg]"
         }
        }
       }
      }
     },
     "metadata": {},
     "output_type": "display_data"
    }
   ],
   "source": [
    "fig = go.Figure()\n",
    "fig.add_trace(go.Scatter(x=d_x, y=np.rad2deg(torque_theta), mode=\"markers\", marker_symbol=\"diamond\", marker_size=9, name=\"Disc. Torque\"))\n",
    "# fig.add_trace(go.Scatter(y=np.rad2deg(theta2), mode=\"markers\", marker_symbol=\"square\", marker_size=9, name=\"same start\"))\n",
    "fig.add_trace(go.Scatter(x=d_x, y=np.rad2deg(energy_theta), mode=\"markers\", name=\"Energy\"))\n",
    "fig.add_trace(go.Scatter(x=c_x-4, y=np.rad2deg(continuous_theta), mode=\"lines\", line=dict(color='red'), name=\"Cont. Torque\"))\n",
    "fig.add_vline(x=0, opacity=1, line_dash=\"dash\", line_width=2)\n",
    "fig.add_annotation(text=\"SL\", showarrow=False, x=0, y=0.1, xanchor=\"left\", yref=\"y domain\", font_size=25)\n",
    "\n",
    "fig.update_layout(xaxis_title=\"x [nm]\", yaxis_title=\"Angle [deg]\", legend_xanchor=\"right\", font_size=22, height=500, width=1200)\n",
    "\n",
    "\n",
    "fig.show()\n"
   ]
  },
  {
   "cell_type": "code",
   "execution_count": 8,
   "metadata": {},
   "outputs": [],
   "source": [
    "field = np.linspace(1e-2,6,80)\n",
    "\n",
    "\n",
    "\n",
    "\n",
    "t_mag = torque_M(field, *t_args[1:], tol=1e-7, step=1e-3)\n",
    "e_mag = energy_M(field, *e_args[1:])\n",
    "c_mag = continuous_M(field, *c_args[1:], tol=1e-7, step=1e-3, min_tol=1e-6)"
   ]
  },
  {
   "cell_type": "code",
   "execution_count": 9,
   "metadata": {},
   "outputs": [
    {
     "data": {
      "application/vnd.plotly.v1+json": {
       "config": {
        "plotlyServerURL": "https://plot.ly"
       },
       "data": [
        {
         "line": {
          "color": "red",
          "dash": "dot"
         },
         "marker": {
          "color": "red"
         },
         "mode": "lines+markers",
         "name": "Energy",
         "opacity": 0.7,
         "type": "scatter",
         "x": [
          0.01,
          0.08582278481012658,
          0.16164556962025317,
          0.23746835443037975,
          0.31329113924050633,
          0.38911392405063294,
          0.4649367088607595,
          0.540759493670886,
          0.6165822784810127,
          0.6924050632911393,
          0.7682278481012659,
          0.8440506329113924,
          0.919873417721519,
          0.9956962025316456,
          1.071518987341772,
          1.1473417721518988,
          1.2231645569620253,
          1.2989873417721518,
          1.3748101265822785,
          1.450632911392405,
          1.5264556962025317,
          1.6022784810126582,
          1.6781012658227847,
          1.7539240506329115,
          1.829746835443038,
          1.9055696202531645,
          1.9813924050632912,
          2.0572151898734177,
          2.133037974683544,
          2.2088607594936707,
          2.2846835443037974,
          2.3605063291139237,
          2.4363291139240504,
          2.512151898734177,
          2.5879746835443034,
          2.66379746835443,
          2.739620253164557,
          2.815443037974683,
          2.89126582278481,
          2.9670886075949365,
          3.0429113924050633,
          3.1187341772151895,
          3.1945569620253162,
          3.270379746835443,
          3.3462025316455692,
          3.422025316455696,
          3.4978481012658227,
          3.573670886075949,
          3.6494936708860757,
          3.7253164556962024,
          3.8011392405063287,
          3.8769620253164554,
          3.952784810126582,
          4.028607594936709,
          4.1044303797468356,
          4.180253164556961,
          4.256075949367088,
          4.331898734177215,
          4.4077215189873415,
          4.483544303797468,
          4.559367088607595,
          4.635189873417721,
          4.7110126582278475,
          4.786835443037974,
          4.862658227848101,
          4.938481012658228,
          5.014303797468354,
          5.090126582278481,
          5.165949367088607,
          5.241772151898734,
          5.31759493670886,
          5.393417721518987,
          5.469240506329114,
          5.545063291139241,
          5.620886075949366,
          5.696708860759493,
          5.77253164556962,
          5.848354430379747,
          5.924177215189873,
          6
         ],
         "y": [
          0.5110852957845051,
          0.5704276528361345,
          0.6179582985020661,
          0.6578918520688191,
          0.6919973587993093,
          0.7215244692553661,
          0.7473489157806448,
          0.7701463385824197,
          0.790299169117875,
          0.8082701810521398,
          0.8242877291076668,
          0.8386728458323331,
          0.8516261040819084,
          0.8633036183925068,
          0.8738793181241656,
          0.8834785129728348,
          0.8922247528894455,
          0.9001977585416308,
          0.9074992553170216,
          0.9141641235302316,
          0.9202729079107121,
          0.925900311336596,
          0.9311051126476227,
          0.9359051625980435,
          0.9403159060320867,
          0.9444177832831616,
          0.9482191652064598,
          0.951745017866555,
          0.9550178932820345,
          0.9580764913422165,
          0.9609252105670675,
          0.9635864457986387,
          0.9660624072136332,
          0.9683847231781954,
          0.9705643636511113,
          0.9726005023913341,
          0.9745198519277795,
          0.9763171832770984,
          0.9780102239781928,
          0.9796052924512534,
          0.9811053588543482,
          0.9825184555974588,
          0.9838639222193294,
          0.9851233564723396,
          0.9863241790157365,
          0.9874497325438888,
          0.9885145355210869,
          0.9895278340633775,
          0.990499228498451,
          0.9914176776693978,
          0.9922768979255954,
          0.9931017673181237,
          0.9938896483037367,
          0.9946348043069854,
          0.9953492087452884,
          0.9960259175032029,
          0.9966776690551019,
          0.9972827236071884,
          0.9978832818125819,
          0.9984333693575285,
          0.9989797637347103,
          1,
          1,
          1,
          1,
          1,
          1,
          1,
          1,
          1,
          1,
          1,
          1,
          1,
          1,
          1,
          1,
          1,
          1,
          1
         ]
        },
        {
         "line": {
          "color": "black"
         },
         "mode": "lines",
         "name": "Disc. Torque",
         "opacity": 1,
         "type": "scatter",
         "x": [
          0.01,
          0.08582278481012658,
          0.16164556962025317,
          0.23746835443037975,
          0.31329113924050633,
          0.38911392405063294,
          0.4649367088607595,
          0.540759493670886,
          0.6165822784810127,
          0.6924050632911393,
          0.7682278481012659,
          0.8440506329113924,
          0.919873417721519,
          0.9956962025316456,
          1.071518987341772,
          1.1473417721518988,
          1.2231645569620253,
          1.2989873417721518,
          1.3748101265822785,
          1.450632911392405,
          1.5264556962025317,
          1.6022784810126582,
          1.6781012658227847,
          1.7539240506329115,
          1.829746835443038,
          1.9055696202531645,
          1.9813924050632912,
          2.0572151898734177,
          2.133037974683544,
          2.2088607594936707,
          2.2846835443037974,
          2.3605063291139237,
          2.4363291139240504,
          2.512151898734177,
          2.5879746835443034,
          2.66379746835443,
          2.739620253164557,
          2.815443037974683,
          2.89126582278481,
          2.9670886075949365,
          3.0429113924050633,
          3.1187341772151895,
          3.1945569620253162,
          3.270379746835443,
          3.3462025316455692,
          3.422025316455696,
          3.4978481012658227,
          3.573670886075949,
          3.6494936708860757,
          3.7253164556962024,
          3.8011392405063287,
          3.8769620253164554,
          3.952784810126582,
          4.028607594936709,
          4.1044303797468356,
          4.180253164556961,
          4.256075949367088,
          4.331898734177215,
          4.4077215189873415,
          4.483544303797468,
          4.559367088607595,
          4.635189873417721,
          4.7110126582278475,
          4.786835443037974,
          4.862658227848101,
          4.938481012658228,
          5.014303797468354,
          5.090126582278481,
          5.165949367088607,
          5.241772151898734,
          5.31759493670886,
          5.393417721518987,
          5.469240506329114,
          5.545063291139241,
          5.620886075949366,
          5.696708860759493,
          5.77253164556962,
          5.848354430379747,
          5.924177215189873,
          6
         ],
         "y": [
          0.5115353925122798,
          0.5703799391714461,
          0.6179607965179746,
          0.6578475655185024,
          0.6919639257476811,
          0.7215251746764113,
          0.7473764669051473,
          0.7701431406895729,
          0.7903076446791844,
          0.8082531382234225,
          0.8242903967851374,
          0.838675421802139,
          0.8516216644841578,
          0.8633087828252234,
          0.8738891718316876,
          0.8834929797509317,
          0.8922319482892072,
          0.9002025127650789,
          0.9074882644401804,
          0.9141619623068289,
          0.9202871449555705,
          0.9259195311655357,
          0.9311080970939412,
          0.9358960281395675,
          0.9403215523915543,
          0.9444185601371801,
          0.9482171308177271,
          0.9517441814109037,
          0.9550234823925651,
          0.9580770637793838,
          0.9609235892347449,
          0.9635805917401218,
          0.9660637002332879,
          0.9683869586203987,
          0.9705631122518368,
          0.9726036711531613,
          0.9745191061054428,
          0.9763189104232394,
          0.9780117342495503,
          0.9796054582819594,
          0.9811072683606339,
          0.9825237425908485,
          0.9838608998432625,
          0.9851242531008628,
          0.9863188648879738,
          0.9874493876799291,
          0.988520094745982,
          0.9895349305557838,
          0.9904975250328724,
          0.9914112319773695,
          0.9922791497648682,
          0.9931041467187449,
          0.9938888746792832,
          0.994635793966952,
          0.9953471880960538,
          0.9960251749009872,
          0.9966717257883474,
          0.9972886715380552,
          0.997877719186166,
          0.9984404580609203,
          1,
          1,
          1,
          1,
          1,
          1,
          1,
          1,
          1,
          1,
          1,
          1,
          1,
          1,
          1,
          1,
          1,
          1,
          1,
          1
         ]
        },
        {
         "line": {
          "color": "#00BFFF",
          "dash": "dash"
         },
         "mode": "lines",
         "name": "Cont. Torque",
         "opacity": 1,
         "type": "scatter",
         "x": [
          0.01,
          0.08582278481012658,
          0.16164556962025317,
          0.23746835443037975,
          0.31329113924050633,
          0.38911392405063294,
          0.4649367088607595,
          0.540759493670886,
          0.6165822784810127,
          0.6924050632911393,
          0.7682278481012659,
          0.8440506329113924,
          0.919873417721519,
          0.9956962025316456,
          1.071518987341772,
          1.1473417721518988,
          1.2231645569620253,
          1.2989873417721518,
          1.3748101265822785,
          1.450632911392405,
          1.5264556962025317,
          1.6022784810126582,
          1.6781012658227847,
          1.7539240506329115,
          1.829746835443038,
          1.9055696202531645,
          1.9813924050632912,
          2.0572151898734177,
          2.133037974683544,
          2.2088607594936707,
          2.2846835443037974,
          2.3605063291139237,
          2.4363291139240504,
          2.512151898734177,
          2.5879746835443034,
          2.66379746835443,
          2.739620253164557,
          2.815443037974683,
          2.89126582278481,
          2.9670886075949365,
          3.0429113924050633,
          3.1187341772151895,
          3.1945569620253162,
          3.270379746835443,
          3.3462025316455692,
          3.422025316455696,
          3.4978481012658227,
          3.573670886075949,
          3.6494936708860757,
          3.7253164556962024,
          3.8011392405063287,
          3.8769620253164554,
          3.952784810126582,
          4.028607594936709,
          4.1044303797468356,
          4.180253164556961,
          4.256075949367088,
          4.331898734177215,
          4.4077215189873415,
          4.483544303797468,
          4.559367088607595,
          4.635189873417721,
          4.7110126582278475,
          4.786835443037974,
          4.862658227848101,
          4.938481012658228,
          5.014303797468354,
          5.090126582278481,
          5.165949367088607,
          5.241772151898734,
          5.31759493670886,
          5.393417721518987,
          5.469240506329114,
          5.545063291139241,
          5.620886075949366,
          5.696708860759493,
          5.77253164556962,
          5.848354430379747,
          5.924177215189873,
          6
         ],
         "y": [
          0.5077087648551943,
          0.566400901873358,
          0.6136468549056526,
          0.6531321364537238,
          0.6868404804031117,
          0.7159982343578194,
          0.741470144950453,
          0.7638811916506105,
          0.7837290722959978,
          0.8013910244003609,
          0.8171835541158761,
          0.8313579127708295,
          0.84412722856455,
          0.8556692840165661,
          0.8661297057717519,
          0.8756447735993703,
          0.8843185739473366,
          0.8922469003699641,
          0.899507970972511,
          0.9061800269759192,
          0.9123183981844198,
          0.9179789572833748,
          0.9232088874555804,
          0.9280510440807757,
          0.9325412296896677,
          0.9367119553168413,
          0.940592885945371,
          0.944209755271515,
          0.9475854171350035,
          0.950740671526243,
          0.9536943090685629,
          0.9564624374202108,
          0.9590602825597306,
          0.9615013113063756,
          0.9637983074553342,
          0.9659615547226191,
          0.9680013148831343,
          0.9699272488520938,
          0.9717471991448828,
          0.9734688354385379,
          0.975098800731353,
          0.9766454503908623,
          0.9781110064514091,
          0.9795029764684762,
          0.9808261154249903,
          0.9820848575164044,
          0.9832846877259116,
          0.9844237751213655,
          0.9855133836900359,
          0.9865537574100275,
          0.9875463913788893,
          0.9884951636982154,
          0.9894005492851559,
          0.9902731584496979,
          0.9911027398584188,
          0.9919003957334785,
          0.9926653072679181,
          0.9934016964120778,
          0.9941056161981865,
          0.9947822767987557,
          0.995433050383473,
          0.9960592391044593,
          0.9966620767176172,
          0.9972427331455498,
          0.997804608257182,
          0.9983361147686411,
          0.9988598912709945,
          0.9993640376556779,
          1,
          1,
          1,
          1,
          1,
          1,
          1,
          1,
          1,
          1,
          1,
          1
         ]
        },
        {
         "line": {
          "color": "black"
         },
         "marker": {
          "color": "black"
         },
         "mode": "markers+lines",
         "showlegend": false,
         "type": "scatter",
         "x": [
          0.01,
          0.08582278481012658,
          0.16164556962025317,
          0.23746835443037975,
          0.31329113924050633,
          0.38911392405063294,
          0.4649367088607595,
          0.540759493670886,
          0.6165822784810127,
          0.6924050632911393,
          0.7682278481012659,
          0.8440506329113924,
          0.919873417721519,
          0.9956962025316456,
          1.071518987341772,
          1.1473417721518988,
          1.2231645569620253,
          1.2989873417721518,
          1.3748101265822785,
          1.450632911392405,
          1.5264556962025317,
          1.6022784810126582,
          1.6781012658227847,
          1.7539240506329115,
          1.829746835443038,
          1.9055696202531645,
          1.9813924050632912,
          2.0572151898734177,
          2.133037974683544,
          2.2088607594936707,
          2.2846835443037974,
          2.3605063291139237,
          2.4363291139240504,
          2.512151898734177,
          2.5879746835443034,
          2.66379746835443,
          2.739620253164557,
          2.815443037974683,
          2.89126582278481,
          2.9670886075949365,
          3.0429113924050633,
          3.1187341772151895,
          3.1945569620253162,
          3.270379746835443,
          3.3462025316455692,
          3.422025316455696,
          3.4978481012658227,
          3.573670886075949,
          3.6494936708860757,
          3.7253164556962024,
          3.8011392405063287,
          3.8769620253164554,
          3.952784810126582,
          4.028607594936709,
          4.1044303797468356,
          4.180253164556961,
          4.256075949367088,
          4.331898734177215,
          4.4077215189873415,
          4.483544303797468,
          4.559367088607595,
          4.635189873417721,
          4.7110126582278475,
          4.786835443037974,
          4.862658227848101,
          4.938481012658228,
          5.014303797468354,
          5.090126582278481,
          5.165949367088607,
          5.241772151898734,
          5.31759493670886,
          5.393417721518987,
          5.469240506329114,
          5.545063291139241,
          5.620886075949366,
          5.696708860759493,
          5.77253164556962,
          5.848354430379747,
          5.924177215189873,
          6
         ],
         "xaxis": "x2",
         "y": [
          -0.0004500967277746293,
          0.00004771366468836469,
          -0.000002498015908569684,
          0.00004428655031663009,
          0.00003343305162828436,
          -7.054210452439591e-7,
          -0.00002755112450247843,
          0.0000031978928467513157,
          -0.00000847556130934013,
          0.00001704282871728413,
          -0.0000026676774705913786,
          -0.000002575969805906908,
          0.000004439597750649504,
          -0.000005164432716586731,
          -0.000009853707521934041,
          -0.000014466778096910993,
          -0.000007195399761683596,
          -0.000004754223448144579,
          0.00001099087684119926,
          0.0000021612234026857635,
          -0.000014237044858367298,
          -0.000019219828939709416,
          -0.0000029844463184103276,
          0.000009134458475945628,
          -0.000005646359467648132,
          -7.768540184471817e-7,
          0.0000020343887326967902,
          8.364556512985288e-7,
          -0.000005589110530612729,
          -5.724371673343498e-7,
          0.0000016213323226210719,
          0.000005854058516940874,
          -0.0000012930196546800943,
          -0.0000022354422033465937,
          0.0000012513992745377678,
          -0.0000031687618271547535,
          7.458223366674233e-7,
          -0.0000017271461409951172,
          -0.000001510271357529902,
          -1.6583070605591388e-7,
          -0.0000019095062856466782,
          -0.000005286993389752581,
          0.000003022376066863508,
          -8.966285232059334e-7,
          0.000005314127762723331,
          3.4486395972255224e-7,
          -0.000005559224895090864,
          -0.000007096492406266641,
          0.0000017034655785952424,
          0.000006445692028345107,
          -0.0000022518392728265724,
          -0.0000023794006211996788,
          7.736244534983783e-7,
          -9.896599666436856e-7,
          0.00000202064923460199,
          7.426022157197565e-7,
          0.000005943266754515619,
          -0.000005947930866834206,
          0.000005562626415933636,
          -0.0000070887033918332065,
          -0.0010202362652896868,
          0,
          0,
          0,
          0,
          0,
          0,
          0,
          0,
          0,
          0,
          0,
          0,
          0,
          0,
          0,
          0,
          0,
          0,
          0
         ],
         "yaxis": "y2"
        },
        {
         "line": {
          "color": "#00BFFF",
          "dash": "dash"
         },
         "marker": {
          "color": "#00BFFF"
         },
         "mode": "markers+lines",
         "showlegend": false,
         "type": "scatter",
         "x": [
          0.01,
          0.08582278481012658,
          0.16164556962025317,
          0.23746835443037975,
          0.31329113924050633,
          0.38911392405063294,
          0.4649367088607595,
          0.540759493670886,
          0.6165822784810127,
          0.6924050632911393,
          0.7682278481012659,
          0.8440506329113924,
          0.919873417721519,
          0.9956962025316456,
          1.071518987341772,
          1.1473417721518988,
          1.2231645569620253,
          1.2989873417721518,
          1.3748101265822785,
          1.450632911392405,
          1.5264556962025317,
          1.6022784810126582,
          1.6781012658227847,
          1.7539240506329115,
          1.829746835443038,
          1.9055696202531645,
          1.9813924050632912,
          2.0572151898734177,
          2.133037974683544,
          2.2088607594936707,
          2.2846835443037974,
          2.3605063291139237,
          2.4363291139240504,
          2.512151898734177,
          2.5879746835443034,
          2.66379746835443,
          2.739620253164557,
          2.815443037974683,
          2.89126582278481,
          2.9670886075949365,
          3.0429113924050633,
          3.1187341772151895,
          3.1945569620253162,
          3.270379746835443,
          3.3462025316455692,
          3.422025316455696,
          3.4978481012658227,
          3.573670886075949,
          3.6494936708860757,
          3.7253164556962024,
          3.8011392405063287,
          3.8769620253164554,
          3.952784810126582,
          4.028607594936709,
          4.1044303797468356,
          4.180253164556961,
          4.256075949367088,
          4.331898734177215,
          4.4077215189873415,
          4.483544303797468,
          4.559367088607595,
          4.635189873417721,
          4.7110126582278475,
          4.786835443037974,
          4.862658227848101,
          4.938481012658228,
          5.014303797468354,
          5.090126582278481,
          5.165949367088607,
          5.241772151898734,
          5.31759493670886,
          5.393417721518987,
          5.469240506329114,
          5.545063291139241,
          5.620886075949366,
          5.696708860759493,
          5.77253164556962,
          5.848354430379747,
          5.924177215189873,
          6
         ],
         "xaxis": "x2",
         "y": [
          0.0033765309293107837,
          0.004026750962776493,
          0.0043114435964134445,
          0.00475971561509525,
          0.005156878396197606,
          0.005526234897546667,
          0.005878770830191726,
          0.006265146931809129,
          0.006570096821877258,
          0.0068791566517788505,
          0.007104174991790724,
          0.007314933061503659,
          0.007498875517358394,
          0.007634334375940743,
          0.007749612352413782,
          0.007833739373464432,
          0.007906178942108877,
          0.00795085817166663,
          0.007991284344510574,
          0.007984096554312425,
          0.007954509726292303,
          0.007921354053221252,
          0.007896225192042361,
          0.007854118517267805,
          0.007774676342419018,
          0.0077058279663203555,
          0.00762627926108872,
          0.007535262595040004,
          0.007432476147030909,
          0.007335819815973532,
          0.007230901498504583,
          0.007124008378427971,
          0.007002124653902597,
          0.0068834118718197335,
          0.0067660561957770815,
          0.0066389476687149784,
          0.006518537044645112,
          0.006389934425004573,
          0.0062630248333099825,
          0.006136457012715479,
          0.00600655812299522,
          0.005873005206596504,
          0.0057529157679202525,
          0.0056203800038634455,
          0.005498063590746227,
          0.005364875027484395,
          0.005229847795175324,
          0.005104058942012046,
          0.004985844808415019,
          0.004863920259370325,
          0.004730506546706037,
          0.004606603619908278,
          0.0044890990185808555,
          0.004361645857287488,
          0.0042464688868696365,
          0.004125521769724361,
          0.0040123617871837824,
          0.003881027195110631,
          0.003777665614395409,
          0.003651092558772717,
          0.0035467133512373517,
          0.00394076089554074,
          0.0033379232823828042,
          0.0027572668544502132,
          0.0021953917428180203,
          0.0016638852313588526,
          0.0011401087290054956,
          0.0006359623443220608,
          0,
          0,
          0,
          0,
          0,
          0,
          0,
          0,
          0,
          0,
          0,
          0
         ],
         "yaxis": "y2"
        }
       ],
       "layout": {
        "font": {
         "size": 23
        },
        "height": 600,
        "legend": {
         "xanchor": "right",
         "y": 0.5
        },
        "template": {
         "data": {
          "bar": [
           {
            "error_x": {
             "color": "rgb(36,36,36)"
            },
            "error_y": {
             "color": "rgb(36,36,36)"
            },
            "marker": {
             "line": {
              "color": "white",
              "width": 0.5
             },
             "pattern": {
              "fillmode": "overlay",
              "size": 10,
              "solidity": 0.2
             }
            },
            "type": "bar"
           }
          ],
          "barpolar": [
           {
            "marker": {
             "line": {
              "color": "white",
              "width": 0.5
             },
             "pattern": {
              "fillmode": "overlay",
              "size": 10,
              "solidity": 0.2
             }
            },
            "type": "barpolar"
           }
          ],
          "carpet": [
           {
            "aaxis": {
             "endlinecolor": "rgb(36,36,36)",
             "gridcolor": "white",
             "linecolor": "white",
             "minorgridcolor": "white",
             "startlinecolor": "rgb(36,36,36)"
            },
            "baxis": {
             "endlinecolor": "rgb(36,36,36)",
             "gridcolor": "white",
             "linecolor": "white",
             "minorgridcolor": "white",
             "startlinecolor": "rgb(36,36,36)"
            },
            "type": "carpet"
           }
          ],
          "choropleth": [
           {
            "colorbar": {
             "outlinewidth": 1,
             "tickcolor": "rgb(36,36,36)",
             "ticks": "outside"
            },
            "type": "choropleth"
           }
          ],
          "contour": [
           {
            "colorbar": {
             "outlinewidth": 1,
             "tickcolor": "rgb(36,36,36)",
             "ticks": "outside"
            },
            "colorscale": [
             [
              0,
              "#440154"
             ],
             [
              0.1111111111111111,
              "#482878"
             ],
             [
              0.2222222222222222,
              "#3e4989"
             ],
             [
              0.3333333333333333,
              "#31688e"
             ],
             [
              0.4444444444444444,
              "#26828e"
             ],
             [
              0.5555555555555556,
              "#1f9e89"
             ],
             [
              0.6666666666666666,
              "#35b779"
             ],
             [
              0.7777777777777778,
              "#6ece58"
             ],
             [
              0.8888888888888888,
              "#b5de2b"
             ],
             [
              1,
              "#fde725"
             ]
            ],
            "type": "contour"
           }
          ],
          "contourcarpet": [
           {
            "colorbar": {
             "outlinewidth": 1,
             "tickcolor": "rgb(36,36,36)",
             "ticks": "outside"
            },
            "type": "contourcarpet"
           }
          ],
          "heatmap": [
           {
            "colorbar": {
             "outlinewidth": 1,
             "tickcolor": "rgb(36,36,36)",
             "ticks": "outside"
            },
            "colorscale": [
             [
              0,
              "#440154"
             ],
             [
              0.1111111111111111,
              "#482878"
             ],
             [
              0.2222222222222222,
              "#3e4989"
             ],
             [
              0.3333333333333333,
              "#31688e"
             ],
             [
              0.4444444444444444,
              "#26828e"
             ],
             [
              0.5555555555555556,
              "#1f9e89"
             ],
             [
              0.6666666666666666,
              "#35b779"
             ],
             [
              0.7777777777777778,
              "#6ece58"
             ],
             [
              0.8888888888888888,
              "#b5de2b"
             ],
             [
              1,
              "#fde725"
             ]
            ],
            "type": "heatmap"
           }
          ],
          "heatmapgl": [
           {
            "colorbar": {
             "outlinewidth": 1,
             "tickcolor": "rgb(36,36,36)",
             "ticks": "outside"
            },
            "colorscale": [
             [
              0,
              "#440154"
             ],
             [
              0.1111111111111111,
              "#482878"
             ],
             [
              0.2222222222222222,
              "#3e4989"
             ],
             [
              0.3333333333333333,
              "#31688e"
             ],
             [
              0.4444444444444444,
              "#26828e"
             ],
             [
              0.5555555555555556,
              "#1f9e89"
             ],
             [
              0.6666666666666666,
              "#35b779"
             ],
             [
              0.7777777777777778,
              "#6ece58"
             ],
             [
              0.8888888888888888,
              "#b5de2b"
             ],
             [
              1,
              "#fde725"
             ]
            ],
            "type": "heatmapgl"
           }
          ],
          "histogram": [
           {
            "marker": {
             "line": {
              "color": "white",
              "width": 0.6
             }
            },
            "type": "histogram"
           }
          ],
          "histogram2d": [
           {
            "colorbar": {
             "outlinewidth": 1,
             "tickcolor": "rgb(36,36,36)",
             "ticks": "outside"
            },
            "colorscale": [
             [
              0,
              "#440154"
             ],
             [
              0.1111111111111111,
              "#482878"
             ],
             [
              0.2222222222222222,
              "#3e4989"
             ],
             [
              0.3333333333333333,
              "#31688e"
             ],
             [
              0.4444444444444444,
              "#26828e"
             ],
             [
              0.5555555555555556,
              "#1f9e89"
             ],
             [
              0.6666666666666666,
              "#35b779"
             ],
             [
              0.7777777777777778,
              "#6ece58"
             ],
             [
              0.8888888888888888,
              "#b5de2b"
             ],
             [
              1,
              "#fde725"
             ]
            ],
            "type": "histogram2d"
           }
          ],
          "histogram2dcontour": [
           {
            "colorbar": {
             "outlinewidth": 1,
             "tickcolor": "rgb(36,36,36)",
             "ticks": "outside"
            },
            "colorscale": [
             [
              0,
              "#440154"
             ],
             [
              0.1111111111111111,
              "#482878"
             ],
             [
              0.2222222222222222,
              "#3e4989"
             ],
             [
              0.3333333333333333,
              "#31688e"
             ],
             [
              0.4444444444444444,
              "#26828e"
             ],
             [
              0.5555555555555556,
              "#1f9e89"
             ],
             [
              0.6666666666666666,
              "#35b779"
             ],
             [
              0.7777777777777778,
              "#6ece58"
             ],
             [
              0.8888888888888888,
              "#b5de2b"
             ],
             [
              1,
              "#fde725"
             ]
            ],
            "type": "histogram2dcontour"
           }
          ],
          "mesh3d": [
           {
            "colorbar": {
             "outlinewidth": 1,
             "tickcolor": "rgb(36,36,36)",
             "ticks": "outside"
            },
            "type": "mesh3d"
           }
          ],
          "parcoords": [
           {
            "line": {
             "colorbar": {
              "outlinewidth": 1,
              "tickcolor": "rgb(36,36,36)",
              "ticks": "outside"
             }
            },
            "type": "parcoords"
           }
          ],
          "pie": [
           {
            "automargin": true,
            "type": "pie"
           }
          ],
          "scatter": [
           {
            "fillpattern": {
             "fillmode": "overlay",
             "size": 10,
             "solidity": 0.2
            },
            "type": "scatter"
           }
          ],
          "scatter3d": [
           {
            "line": {
             "colorbar": {
              "outlinewidth": 1,
              "tickcolor": "rgb(36,36,36)",
              "ticks": "outside"
             }
            },
            "marker": {
             "colorbar": {
              "outlinewidth": 1,
              "tickcolor": "rgb(36,36,36)",
              "ticks": "outside"
             }
            },
            "type": "scatter3d"
           }
          ],
          "scattercarpet": [
           {
            "marker": {
             "colorbar": {
              "outlinewidth": 1,
              "tickcolor": "rgb(36,36,36)",
              "ticks": "outside"
             }
            },
            "type": "scattercarpet"
           }
          ],
          "scattergeo": [
           {
            "marker": {
             "colorbar": {
              "outlinewidth": 1,
              "tickcolor": "rgb(36,36,36)",
              "ticks": "outside"
             }
            },
            "type": "scattergeo"
           }
          ],
          "scattergl": [
           {
            "marker": {
             "colorbar": {
              "outlinewidth": 1,
              "tickcolor": "rgb(36,36,36)",
              "ticks": "outside"
             }
            },
            "type": "scattergl"
           }
          ],
          "scattermapbox": [
           {
            "marker": {
             "colorbar": {
              "outlinewidth": 1,
              "tickcolor": "rgb(36,36,36)",
              "ticks": "outside"
             }
            },
            "type": "scattermapbox"
           }
          ],
          "scatterpolar": [
           {
            "marker": {
             "colorbar": {
              "outlinewidth": 1,
              "tickcolor": "rgb(36,36,36)",
              "ticks": "outside"
             }
            },
            "type": "scatterpolar"
           }
          ],
          "scatterpolargl": [
           {
            "marker": {
             "colorbar": {
              "outlinewidth": 1,
              "tickcolor": "rgb(36,36,36)",
              "ticks": "outside"
             }
            },
            "type": "scatterpolargl"
           }
          ],
          "scatterternary": [
           {
            "marker": {
             "colorbar": {
              "outlinewidth": 1,
              "tickcolor": "rgb(36,36,36)",
              "ticks": "outside"
             }
            },
            "type": "scatterternary"
           }
          ],
          "surface": [
           {
            "colorbar": {
             "outlinewidth": 1,
             "tickcolor": "rgb(36,36,36)",
             "ticks": "outside"
            },
            "colorscale": [
             [
              0,
              "#440154"
             ],
             [
              0.1111111111111111,
              "#482878"
             ],
             [
              0.2222222222222222,
              "#3e4989"
             ],
             [
              0.3333333333333333,
              "#31688e"
             ],
             [
              0.4444444444444444,
              "#26828e"
             ],
             [
              0.5555555555555556,
              "#1f9e89"
             ],
             [
              0.6666666666666666,
              "#35b779"
             ],
             [
              0.7777777777777778,
              "#6ece58"
             ],
             [
              0.8888888888888888,
              "#b5de2b"
             ],
             [
              1,
              "#fde725"
             ]
            ],
            "type": "surface"
           }
          ],
          "table": [
           {
            "cells": {
             "fill": {
              "color": "rgb(237,237,237)"
             },
             "line": {
              "color": "white"
             }
            },
            "header": {
             "fill": {
              "color": "rgb(217,217,217)"
             },
             "line": {
              "color": "white"
             }
            },
            "type": "table"
           }
          ]
         },
         "layout": {
          "annotationdefaults": {
           "arrowhead": 0,
           "arrowwidth": 1
          },
          "autotypenumbers": "strict",
          "coloraxis": {
           "colorbar": {
            "outlinewidth": 1,
            "tickcolor": "rgb(36,36,36)",
            "ticks": "outside"
           }
          },
          "colorscale": {
           "diverging": [
            [
             0,
             "rgb(103,0,31)"
            ],
            [
             0.1,
             "rgb(178,24,43)"
            ],
            [
             0.2,
             "rgb(214,96,77)"
            ],
            [
             0.3,
             "rgb(244,165,130)"
            ],
            [
             0.4,
             "rgb(253,219,199)"
            ],
            [
             0.5,
             "rgb(247,247,247)"
            ],
            [
             0.6,
             "rgb(209,229,240)"
            ],
            [
             0.7,
             "rgb(146,197,222)"
            ],
            [
             0.8,
             "rgb(67,147,195)"
            ],
            [
             0.9,
             "rgb(33,102,172)"
            ],
            [
             1,
             "rgb(5,48,97)"
            ]
           ],
           "sequential": [
            [
             0,
             "#440154"
            ],
            [
             0.1111111111111111,
             "#482878"
            ],
            [
             0.2222222222222222,
             "#3e4989"
            ],
            [
             0.3333333333333333,
             "#31688e"
            ],
            [
             0.4444444444444444,
             "#26828e"
            ],
            [
             0.5555555555555556,
             "#1f9e89"
            ],
            [
             0.6666666666666666,
             "#35b779"
            ],
            [
             0.7777777777777778,
             "#6ece58"
            ],
            [
             0.8888888888888888,
             "#b5de2b"
            ],
            [
             1,
             "#fde725"
            ]
           ],
           "sequentialminus": [
            [
             0,
             "#440154"
            ],
            [
             0.1111111111111111,
             "#482878"
            ],
            [
             0.2222222222222222,
             "#3e4989"
            ],
            [
             0.3333333333333333,
             "#31688e"
            ],
            [
             0.4444444444444444,
             "#26828e"
            ],
            [
             0.5555555555555556,
             "#1f9e89"
            ],
            [
             0.6666666666666666,
             "#35b779"
            ],
            [
             0.7777777777777778,
             "#6ece58"
            ],
            [
             0.8888888888888888,
             "#b5de2b"
            ],
            [
             1,
             "#fde725"
            ]
           ]
          },
          "colorway": [
           "#1F77B4",
           "#FF7F0E",
           "#2CA02C",
           "#D62728",
           "#9467BD",
           "#8C564B",
           "#E377C2",
           "#7F7F7F",
           "#BCBD22",
           "#17BECF"
          ],
          "font": {
           "color": "rgb(36,36,36)"
          },
          "geo": {
           "bgcolor": "white",
           "lakecolor": "white",
           "landcolor": "white",
           "showlakes": true,
           "showland": true,
           "subunitcolor": "white"
          },
          "hoverlabel": {
           "align": "left"
          },
          "hovermode": "closest",
          "mapbox": {
           "style": "light"
          },
          "paper_bgcolor": "white",
          "plot_bgcolor": "white",
          "polar": {
           "angularaxis": {
            "gridcolor": "rgb(232,232,232)",
            "linecolor": "rgb(36,36,36)",
            "showgrid": false,
            "showline": true,
            "ticks": "outside"
           },
           "bgcolor": "white",
           "radialaxis": {
            "gridcolor": "rgb(232,232,232)",
            "linecolor": "rgb(36,36,36)",
            "showgrid": false,
            "showline": true,
            "ticks": "outside"
           }
          },
          "scene": {
           "xaxis": {
            "backgroundcolor": "white",
            "gridcolor": "rgb(232,232,232)",
            "gridwidth": 2,
            "linecolor": "rgb(36,36,36)",
            "showbackground": true,
            "showgrid": false,
            "showline": true,
            "ticks": "outside",
            "zeroline": false,
            "zerolinecolor": "rgb(36,36,36)"
           },
           "yaxis": {
            "backgroundcolor": "white",
            "gridcolor": "rgb(232,232,232)",
            "gridwidth": 2,
            "linecolor": "rgb(36,36,36)",
            "showbackground": true,
            "showgrid": false,
            "showline": true,
            "ticks": "outside",
            "zeroline": false,
            "zerolinecolor": "rgb(36,36,36)"
           },
           "zaxis": {
            "backgroundcolor": "white",
            "gridcolor": "rgb(232,232,232)",
            "gridwidth": 2,
            "linecolor": "rgb(36,36,36)",
            "showbackground": true,
            "showgrid": false,
            "showline": true,
            "ticks": "outside",
            "zeroline": false,
            "zerolinecolor": "rgb(36,36,36)"
           }
          },
          "shapedefaults": {
           "fillcolor": "black",
           "line": {
            "width": 0
           },
           "opacity": 0.3
          },
          "ternary": {
           "aaxis": {
            "gridcolor": "rgb(232,232,232)",
            "linecolor": "rgb(36,36,36)",
            "showgrid": false,
            "showline": true,
            "ticks": "outside"
           },
           "baxis": {
            "gridcolor": "rgb(232,232,232)",
            "linecolor": "rgb(36,36,36)",
            "showgrid": false,
            "showline": true,
            "ticks": "outside"
           },
           "bgcolor": "white",
           "caxis": {
            "gridcolor": "rgb(232,232,232)",
            "linecolor": "rgb(36,36,36)",
            "showgrid": false,
            "showline": true,
            "ticks": "outside"
           }
          },
          "title": {
           "x": 0.05
          },
          "xaxis": {
           "automargin": true,
           "gridcolor": "rgb(232,232,232)",
           "linecolor": "rgb(36,36,36)",
           "showgrid": false,
           "showline": true,
           "ticks": "outside",
           "title": {
            "standoff": 15
           },
           "zeroline": false,
           "zerolinecolor": "rgb(36,36,36)"
          },
          "yaxis": {
           "automargin": true,
           "gridcolor": "rgb(232,232,232)",
           "linecolor": "rgb(36,36,36)",
           "showgrid": false,
           "showline": true,
           "ticks": "outside",
           "title": {
            "standoff": 15
           },
           "zeroline": false,
           "zerolinecolor": "rgb(36,36,36)"
          }
         }
        },
        "width": 1000,
        "xaxis": {
         "anchor": "y",
         "domain": [
          0,
          1
         ],
         "matches": "x2",
         "showticklabels": false
        },
        "xaxis2": {
         "anchor": "y2",
         "domain": [
          0,
          1
         ],
         "title": {
          "text": "Field [T]"
         }
        },
        "yaxis": {
         "anchor": "x",
         "domain": [
          0.24,
          1
         ],
         "title": {
          "text": "M"
         }
        },
        "yaxis2": {
         "anchor": "x2",
         "domain": [
          0,
          0.19
         ],
         "dtick": 0.01,
         "title": {
          "text": "Res."
         }
        }
       }
      }
     },
     "metadata": {},
     "output_type": "display_data"
    }
   ],
   "source": [
    "fig = go.Figure().set_subplots(rows=2, cols=1, row_heights=(0.8,0.2), vertical_spacing=0.05, shared_xaxes=True)\n",
    "fig.add_trace(go.Scatter(x=field, y=e_mag, mode=\"lines+markers\", line=dict(dash=\"dot\", color='red'), marker_color=\"red\", name=\"Energy\", opacity=0.7))\n",
    "fig.add_trace(go.Scatter(x=field, y=t_mag, mode=\"lines\", line=dict(color=\"black\"), name=\"Disc. Torque\", opacity=1))\n",
    "\n",
    "fig.add_trace(go.Scatter(x=field, y=c_mag, mode=\"lines\", line=dict(dash=\"dash\", color=\"#00BFFF\"), name=\"Cont. Torque\", opacity=1))\n",
    "fig.update_layout(yaxis_title=\"M\", legend_xanchor=\"right\", legend_y=0.5, font_size=23, height=350)\n",
    "fig.update_xaxes(title=\"Field [T]\", row=2, col=1)\n",
    "fig.update_yaxes(title=\"Res.\", row=2, col=1, dtick=0.01)\n",
    "fig.add_trace(go.Scatter(x=field, y=e_mag-t_mag, mode=\"markers+lines\", line_color=\"black\", marker_color=\"black\", showlegend=False), row=2, col=1)\n",
    "fig.add_trace(go.Scatter(x=field, y=e_mag-c_mag, mode=\"markers+lines\", line=dict(dash=\"dash\", color=\"#00BFFF\"), marker_color=\"#00BFFF\", showlegend=False), row=2, col=1)\n",
    "fig.update_layout(width=1000, height=600)\n",
    "fig.show()"
   ]
  },
  {
   "cell_type": "markdown",
   "metadata": {},
   "source": [
    "# Fitting"
   ]
  },
  {
   "cell_type": "code",
   "execution_count": 10,
   "metadata": {},
   "outputs": [],
   "source": [
    "\n",
    "@dataclass\n",
    "class Material:\n",
    "    Ms: float = None\n",
    "    A: float = None\n",
    "\n",
    "@dataclass\n",
    "class Multilayer:\n",
    "    symmetry: str = None\n",
    "    A1: any = None\n",
    "    A2: any = None\n",
    "    Ms1: any = None\n",
    "    Ms2: any = None\n",
    "    \n",
    "\n",
    "# example only\n",
    "Co90Ru10 = Material(Ms=0.964, A=1.41)\n",
    "Co85Ru15 = Material(Ms=0.768, A=0.5)\n",
    "Co = Material(Ms=1.389, A=2.84)\n",
    "\n",
    "\n",
    "\n",
    "x = np.arange(0,4,0.2)\n",
    "\n",
    "\n",
    "\n",
    "    \n",
    "A1_60 = Co.A\n",
    "Ms1_60 = Co.Ms\n",
    "A2_60 = Co90Ru10.A\n",
    "Ms2_60 = Co90Ru10.Ms\n",
    "\n",
    "\n",
    "A1_61 = Co.A\n",
    "Ms1_61 = Co.Ms\n",
    "\n",
    "@np.vectorize\n",
    "def A2_61(x):\n",
    "    if x < 0.8:\n",
    "        return Co.A\n",
    "    else:\n",
    "        return Co85Ru15.A\n",
    "    \n",
    "@np.vectorize\n",
    "def Ms2_61(x):\n",
    "    if x < 0.8:\n",
    "        return Co.Ms\n",
    "    else:\n",
    "        return Co85Ru15.Ms   \n",
    "A2_61_arr = A2_61(x[:-1])\n",
    "Ms2_61_arr = Ms2_61(x)\n",
    "\n",
    "\n",
    "\n",
    "\n",
    "# a dictionary to store the multilayers\n",
    "multilayer_dict = {\"60\":Multilayer(symmetry=\"asymmetric\", A1=A1_60, A2=A2_60, Ms1=Ms1_60, Ms2=Ms2_60),\n",
    "                   \"61\":Multilayer(symmetry=\"asymmetric\", A1=A1_61, A2=A2_61_arr, Ms1=Ms1_61, Ms2=Ms2_61_arr)}"
   ]
  },
  {
   "cell_type": "code",
   "execution_count": 11,
   "metadata": {},
   "outputs": [
    {
     "name": "stdout",
     "output_type": "stream",
     "text": [
      "a = -4.91e-05\n",
      "b = 3.77e-04\n",
      "avg_moment = 3.77e-04\n",
      "76\n"
     ]
    }
   ],
   "source": [
    "filename = \"RAM5-61-295k.dat\"\n",
    "# filename = \"RAM5-60-295k.dat\"\n",
    "\n",
    "key = filename.split(\"-\")[1]\n",
    "try:\n",
    "    structure = multilayer_dict[key]\n",
    "except:\n",
    "    structure = None\n",
    "    \n",
    "field, momentRaw = np.genfromtxt(filename, delimiter = '\\t', unpack = True, usecols=(3,5))\n",
    "\n",
    "#resort fields into ascending order\n",
    "sort = np.argsort(field)\n",
    "field = field[sort]\n",
    "momentRaw = momentRaw[sort]\n",
    "\n",
    "#eliminate small field values for this fit (order matters)\n",
    "momentRaw = momentRaw[field > 0.2]\n",
    "field = field[field > 0.2]\n",
    "\n",
    "_, index = np.unique(field, return_index=True)\n",
    "field = field[index]\n",
    "\n",
    "momentRaw = momentRaw[index]\n",
    "\n",
    "\n",
    "\n",
    "\n",
    "#extract the last N amount of points\n",
    "length_of_last_points = 200\n",
    "tail_x = field[-length_of_last_points:] \n",
    "tail_y = momentRaw[-length_of_last_points:]\n",
    "#fit the tail\n",
    "a, b = np.polyfit(tail_x, tail_y, 1)\n",
    "\n",
    "\n",
    "\n",
    "#get some information\n",
    "moment = momentRaw - field*a\n",
    "avg_moment = np.mean(moment[-length_of_last_points:])\n",
    "\n",
    "norm_moment = moment/avg_moment\n",
    "print(f\"a = {a:.2e}\\nb = {b:.2e}\\navg_moment = {avg_moment:.2e}\")\n",
    "# sigma = 0.006*np.ones(len(field))\n",
    "sigma_2 = np.std(norm_moment[-length_of_last_points:])\n",
    "\n",
    "\n",
    "field = field[0:-length_of_last_points:25]\n",
    "norm_moment =  norm_moment[0:-length_of_last_points:25]\n",
    "sigma = sigma_2 * np.ones(len(field))\n",
    "print(len(field))\n",
    "\n",
    "\n",
    "J1 = 3.299\n",
    "J2 = 1.539\n",
    "\n",
    "\n"
   ]
  },
  {
   "cell_type": "code",
   "execution_count": 12,
   "metadata": {},
   "outputs": [
    {
     "data": {
      "application/vnd.plotly.v1+json": {
       "config": {
        "plotlyServerURL": "https://plot.ly"
       },
       "data": [
        {
         "error_y": {
          "array": [
           0.0017653774258828056,
           0.0017653774258828056,
           0.0017653774258828056,
           0.0017653774258828056,
           0.0017653774258828056,
           0.0017653774258828056,
           0.0017653774258828056,
           0.0017653774258828056,
           0.0017653774258828056,
           0.0017653774258828056,
           0.0017653774258828056,
           0.0017653774258828056,
           0.0017653774258828056,
           0.0017653774258828056,
           0.0017653774258828056,
           0.0017653774258828056,
           0.0017653774258828056,
           0.0017653774258828056,
           0.0017653774258828056,
           0.0017653774258828056,
           0.0017653774258828056,
           0.0017653774258828056,
           0.0017653774258828056,
           0.0017653774258828056,
           0.0017653774258828056,
           0.0017653774258828056,
           0.0017653774258828056,
           0.0017653774258828056,
           0.0017653774258828056,
           0.0017653774258828056,
           0.0017653774258828056,
           0.0017653774258828056,
           0.0017653774258828056,
           0.0017653774258828056,
           0.0017653774258828056,
           0.0017653774258828056,
           0.0017653774258828056,
           0.0017653774258828056,
           0.0017653774258828056,
           0.0017653774258828056,
           0.0017653774258828056,
           0.0017653774258828056,
           0.0017653774258828056,
           0.0017653774258828056,
           0.0017653774258828056,
           0.0017653774258828056,
           0.0017653774258828056,
           0.0017653774258828056,
           0.0017653774258828056,
           0.0017653774258828056,
           0.0017653774258828056,
           0.0017653774258828056,
           0.0017653774258828056,
           0.0017653774258828056,
           0.0017653774258828056,
           0.0017653774258828056,
           0.0017653774258828056,
           0.0017653774258828056,
           0.0017653774258828056,
           0.0017653774258828056,
           0.0017653774258828056,
           0.0017653774258828056,
           0.0017653774258828056,
           0.0017653774258828056,
           0.0017653774258828056,
           0.0017653774258828056,
           0.0017653774258828056,
           0.0017653774258828056,
           0.0017653774258828056,
           0.0017653774258828056,
           0.0017653774258828056,
           0.0017653774258828056,
           0.0017653774258828056,
           0.0017653774258828056,
           0.0017653774258828056,
           0.0017653774258828056
          ]
         },
         "mode": "markers",
         "name": "data",
         "type": "scatter",
         "x": [
          0.201295,
          0.284447,
          0.363044,
          0.44548,
          0.52593,
          0.607286,
          0.685714,
          0.768665,
          0.84931,
          0.929553,
          1.00927,
          1.09162,
          1.17049,
          1.24927,
          1.32855,
          1.40949,
          1.48899,
          1.57622,
          1.65848,
          1.7367,
          1.81993,
          1.89761,
          1.98132,
          2.06177,
          2.14295,
          2.21987,
          2.30344,
          2.38674,
          2.46496,
          2.54789,
          2.62632,
          2.70984,
          2.78899,
          2.87039,
          2.94946,
          3.03224,
          3.11143,
          3.1933,
          3.2717,
          3.35531,
          3.43197,
          3.51524,
          3.59877,
          3.67743,
          3.76005,
          3.83928,
          3.92194,
          3.99997,
          4.08001,
          4.16313,
          4.24079,
          4.32398,
          4.40276,
          4.4851,
          4.56256,
          4.64952,
          4.72867,
          4.81259,
          4.89183,
          4.977,
          5.06269,
          5.14136,
          5.22652,
          5.30603,
          5.39342,
          5.4699,
          5.55735,
          5.64244,
          5.72154,
          5.80963,
          5.88747,
          5.97857,
          6.0547,
          6.14804,
          6.23327,
          6.31215
         ],
         "y": [
          0.5207510282132872,
          0.5560527607763759,
          0.5875841602147376,
          0.6192839984097058,
          0.642339448151697,
          0.6706817137133927,
          0.6933704134944528,
          0.7170273749666533,
          0.7373394874142365,
          0.7523004687323533,
          0.7695161389590793,
          0.7848151589615402,
          0.7993215253501414,
          0.8104003413505417,
          0.8235836913612885,
          0.8331059341078083,
          0.8434749453439395,
          0.8533363004987643,
          0.8619696270179812,
          0.871026264771217,
          0.8788736097254902,
          0.8851124091888539,
          0.8951810254833797,
          0.9000355120302197,
          0.9040435899133544,
          0.9094514528052349,
          0.9168206229201367,
          0.9231972444600627,
          0.9287346226824862,
          0.9320609486174717,
          0.9353422666183695,
          0.9392413586982336,
          0.9422531108814447,
          0.9444121932222288,
          0.9510441724810063,
          0.9540008947431751,
          0.9551985553258326,
          0.9592911862108043,
          0.9609641120645327,
          0.9619391143093157,
          0.9692252401811489,
          0.9673156282034567,
          0.9712213266436166,
          0.9731853597481417,
          0.9738829222659118,
          0.9789418608003434,
          0.9782735267896832,
          0.9824362724566076,
          0.9835695917885319,
          0.9815476241971703,
          0.9880755437104873,
          0.9844237301939662,
          0.9860586251776193,
          0.9909656429473946,
          0.9881296775858021,
          0.9916227953420216,
          0.9915051381459119,
          0.9930376591254954,
          0.9936053410479108,
          0.9954491609461563,
          0.996851507193099,
          0.994096208086776,
          0.9941910301313245,
          0.9973610500297727,
          0.996900278407388,
          0.998007574173774,
          0.9984616145226342,
          0.9990329094931333,
          0.9980107595446601,
          0.9995553910894872,
          0.9972014602639931,
          0.9966064379189565,
          0.9993829642624702,
          1.002444032163212,
          1.000348101431985,
          1.0022543280575436
         ]
        }
       ],
       "layout": {
        "font": {
         "size": 25
        },
        "height": 500,
        "legend": {
         "x": 1,
         "xanchor": "right",
         "y": 0.65
        },
        "template": {
         "data": {
          "bar": [
           {
            "error_x": {
             "color": "rgb(36,36,36)"
            },
            "error_y": {
             "color": "rgb(36,36,36)"
            },
            "marker": {
             "line": {
              "color": "white",
              "width": 0.5
             },
             "pattern": {
              "fillmode": "overlay",
              "size": 10,
              "solidity": 0.2
             }
            },
            "type": "bar"
           }
          ],
          "barpolar": [
           {
            "marker": {
             "line": {
              "color": "white",
              "width": 0.5
             },
             "pattern": {
              "fillmode": "overlay",
              "size": 10,
              "solidity": 0.2
             }
            },
            "type": "barpolar"
           }
          ],
          "carpet": [
           {
            "aaxis": {
             "endlinecolor": "rgb(36,36,36)",
             "gridcolor": "white",
             "linecolor": "white",
             "minorgridcolor": "white",
             "startlinecolor": "rgb(36,36,36)"
            },
            "baxis": {
             "endlinecolor": "rgb(36,36,36)",
             "gridcolor": "white",
             "linecolor": "white",
             "minorgridcolor": "white",
             "startlinecolor": "rgb(36,36,36)"
            },
            "type": "carpet"
           }
          ],
          "choropleth": [
           {
            "colorbar": {
             "outlinewidth": 1,
             "tickcolor": "rgb(36,36,36)",
             "ticks": "outside"
            },
            "type": "choropleth"
           }
          ],
          "contour": [
           {
            "colorbar": {
             "outlinewidth": 1,
             "tickcolor": "rgb(36,36,36)",
             "ticks": "outside"
            },
            "colorscale": [
             [
              0,
              "#440154"
             ],
             [
              0.1111111111111111,
              "#482878"
             ],
             [
              0.2222222222222222,
              "#3e4989"
             ],
             [
              0.3333333333333333,
              "#31688e"
             ],
             [
              0.4444444444444444,
              "#26828e"
             ],
             [
              0.5555555555555556,
              "#1f9e89"
             ],
             [
              0.6666666666666666,
              "#35b779"
             ],
             [
              0.7777777777777778,
              "#6ece58"
             ],
             [
              0.8888888888888888,
              "#b5de2b"
             ],
             [
              1,
              "#fde725"
             ]
            ],
            "type": "contour"
           }
          ],
          "contourcarpet": [
           {
            "colorbar": {
             "outlinewidth": 1,
             "tickcolor": "rgb(36,36,36)",
             "ticks": "outside"
            },
            "type": "contourcarpet"
           }
          ],
          "heatmap": [
           {
            "colorbar": {
             "outlinewidth": 1,
             "tickcolor": "rgb(36,36,36)",
             "ticks": "outside"
            },
            "colorscale": [
             [
              0,
              "#440154"
             ],
             [
              0.1111111111111111,
              "#482878"
             ],
             [
              0.2222222222222222,
              "#3e4989"
             ],
             [
              0.3333333333333333,
              "#31688e"
             ],
             [
              0.4444444444444444,
              "#26828e"
             ],
             [
              0.5555555555555556,
              "#1f9e89"
             ],
             [
              0.6666666666666666,
              "#35b779"
             ],
             [
              0.7777777777777778,
              "#6ece58"
             ],
             [
              0.8888888888888888,
              "#b5de2b"
             ],
             [
              1,
              "#fde725"
             ]
            ],
            "type": "heatmap"
           }
          ],
          "heatmapgl": [
           {
            "colorbar": {
             "outlinewidth": 1,
             "tickcolor": "rgb(36,36,36)",
             "ticks": "outside"
            },
            "colorscale": [
             [
              0,
              "#440154"
             ],
             [
              0.1111111111111111,
              "#482878"
             ],
             [
              0.2222222222222222,
              "#3e4989"
             ],
             [
              0.3333333333333333,
              "#31688e"
             ],
             [
              0.4444444444444444,
              "#26828e"
             ],
             [
              0.5555555555555556,
              "#1f9e89"
             ],
             [
              0.6666666666666666,
              "#35b779"
             ],
             [
              0.7777777777777778,
              "#6ece58"
             ],
             [
              0.8888888888888888,
              "#b5de2b"
             ],
             [
              1,
              "#fde725"
             ]
            ],
            "type": "heatmapgl"
           }
          ],
          "histogram": [
           {
            "marker": {
             "line": {
              "color": "white",
              "width": 0.6
             }
            },
            "type": "histogram"
           }
          ],
          "histogram2d": [
           {
            "colorbar": {
             "outlinewidth": 1,
             "tickcolor": "rgb(36,36,36)",
             "ticks": "outside"
            },
            "colorscale": [
             [
              0,
              "#440154"
             ],
             [
              0.1111111111111111,
              "#482878"
             ],
             [
              0.2222222222222222,
              "#3e4989"
             ],
             [
              0.3333333333333333,
              "#31688e"
             ],
             [
              0.4444444444444444,
              "#26828e"
             ],
             [
              0.5555555555555556,
              "#1f9e89"
             ],
             [
              0.6666666666666666,
              "#35b779"
             ],
             [
              0.7777777777777778,
              "#6ece58"
             ],
             [
              0.8888888888888888,
              "#b5de2b"
             ],
             [
              1,
              "#fde725"
             ]
            ],
            "type": "histogram2d"
           }
          ],
          "histogram2dcontour": [
           {
            "colorbar": {
             "outlinewidth": 1,
             "tickcolor": "rgb(36,36,36)",
             "ticks": "outside"
            },
            "colorscale": [
             [
              0,
              "#440154"
             ],
             [
              0.1111111111111111,
              "#482878"
             ],
             [
              0.2222222222222222,
              "#3e4989"
             ],
             [
              0.3333333333333333,
              "#31688e"
             ],
             [
              0.4444444444444444,
              "#26828e"
             ],
             [
              0.5555555555555556,
              "#1f9e89"
             ],
             [
              0.6666666666666666,
              "#35b779"
             ],
             [
              0.7777777777777778,
              "#6ece58"
             ],
             [
              0.8888888888888888,
              "#b5de2b"
             ],
             [
              1,
              "#fde725"
             ]
            ],
            "type": "histogram2dcontour"
           }
          ],
          "mesh3d": [
           {
            "colorbar": {
             "outlinewidth": 1,
             "tickcolor": "rgb(36,36,36)",
             "ticks": "outside"
            },
            "type": "mesh3d"
           }
          ],
          "parcoords": [
           {
            "line": {
             "colorbar": {
              "outlinewidth": 1,
              "tickcolor": "rgb(36,36,36)",
              "ticks": "outside"
             }
            },
            "type": "parcoords"
           }
          ],
          "pie": [
           {
            "automargin": true,
            "type": "pie"
           }
          ],
          "scatter": [
           {
            "fillpattern": {
             "fillmode": "overlay",
             "size": 10,
             "solidity": 0.2
            },
            "type": "scatter"
           }
          ],
          "scatter3d": [
           {
            "line": {
             "colorbar": {
              "outlinewidth": 1,
              "tickcolor": "rgb(36,36,36)",
              "ticks": "outside"
             }
            },
            "marker": {
             "colorbar": {
              "outlinewidth": 1,
              "tickcolor": "rgb(36,36,36)",
              "ticks": "outside"
             }
            },
            "type": "scatter3d"
           }
          ],
          "scattercarpet": [
           {
            "marker": {
             "colorbar": {
              "outlinewidth": 1,
              "tickcolor": "rgb(36,36,36)",
              "ticks": "outside"
             }
            },
            "type": "scattercarpet"
           }
          ],
          "scattergeo": [
           {
            "marker": {
             "colorbar": {
              "outlinewidth": 1,
              "tickcolor": "rgb(36,36,36)",
              "ticks": "outside"
             }
            },
            "type": "scattergeo"
           }
          ],
          "scattergl": [
           {
            "marker": {
             "colorbar": {
              "outlinewidth": 1,
              "tickcolor": "rgb(36,36,36)",
              "ticks": "outside"
             }
            },
            "type": "scattergl"
           }
          ],
          "scattermapbox": [
           {
            "marker": {
             "colorbar": {
              "outlinewidth": 1,
              "tickcolor": "rgb(36,36,36)",
              "ticks": "outside"
             }
            },
            "type": "scattermapbox"
           }
          ],
          "scatterpolar": [
           {
            "marker": {
             "colorbar": {
              "outlinewidth": 1,
              "tickcolor": "rgb(36,36,36)",
              "ticks": "outside"
             }
            },
            "type": "scatterpolar"
           }
          ],
          "scatterpolargl": [
           {
            "marker": {
             "colorbar": {
              "outlinewidth": 1,
              "tickcolor": "rgb(36,36,36)",
              "ticks": "outside"
             }
            },
            "type": "scatterpolargl"
           }
          ],
          "scatterternary": [
           {
            "marker": {
             "colorbar": {
              "outlinewidth": 1,
              "tickcolor": "rgb(36,36,36)",
              "ticks": "outside"
             }
            },
            "type": "scatterternary"
           }
          ],
          "surface": [
           {
            "colorbar": {
             "outlinewidth": 1,
             "tickcolor": "rgb(36,36,36)",
             "ticks": "outside"
            },
            "colorscale": [
             [
              0,
              "#440154"
             ],
             [
              0.1111111111111111,
              "#482878"
             ],
             [
              0.2222222222222222,
              "#3e4989"
             ],
             [
              0.3333333333333333,
              "#31688e"
             ],
             [
              0.4444444444444444,
              "#26828e"
             ],
             [
              0.5555555555555556,
              "#1f9e89"
             ],
             [
              0.6666666666666666,
              "#35b779"
             ],
             [
              0.7777777777777778,
              "#6ece58"
             ],
             [
              0.8888888888888888,
              "#b5de2b"
             ],
             [
              1,
              "#fde725"
             ]
            ],
            "type": "surface"
           }
          ],
          "table": [
           {
            "cells": {
             "fill": {
              "color": "rgb(237,237,237)"
             },
             "line": {
              "color": "white"
             }
            },
            "header": {
             "fill": {
              "color": "rgb(217,217,217)"
             },
             "line": {
              "color": "white"
             }
            },
            "type": "table"
           }
          ]
         },
         "layout": {
          "annotationdefaults": {
           "arrowhead": 0,
           "arrowwidth": 1
          },
          "autotypenumbers": "strict",
          "coloraxis": {
           "colorbar": {
            "outlinewidth": 1,
            "tickcolor": "rgb(36,36,36)",
            "ticks": "outside"
           }
          },
          "colorscale": {
           "diverging": [
            [
             0,
             "rgb(103,0,31)"
            ],
            [
             0.1,
             "rgb(178,24,43)"
            ],
            [
             0.2,
             "rgb(214,96,77)"
            ],
            [
             0.3,
             "rgb(244,165,130)"
            ],
            [
             0.4,
             "rgb(253,219,199)"
            ],
            [
             0.5,
             "rgb(247,247,247)"
            ],
            [
             0.6,
             "rgb(209,229,240)"
            ],
            [
             0.7,
             "rgb(146,197,222)"
            ],
            [
             0.8,
             "rgb(67,147,195)"
            ],
            [
             0.9,
             "rgb(33,102,172)"
            ],
            [
             1,
             "rgb(5,48,97)"
            ]
           ],
           "sequential": [
            [
             0,
             "#440154"
            ],
            [
             0.1111111111111111,
             "#482878"
            ],
            [
             0.2222222222222222,
             "#3e4989"
            ],
            [
             0.3333333333333333,
             "#31688e"
            ],
            [
             0.4444444444444444,
             "#26828e"
            ],
            [
             0.5555555555555556,
             "#1f9e89"
            ],
            [
             0.6666666666666666,
             "#35b779"
            ],
            [
             0.7777777777777778,
             "#6ece58"
            ],
            [
             0.8888888888888888,
             "#b5de2b"
            ],
            [
             1,
             "#fde725"
            ]
           ],
           "sequentialminus": [
            [
             0,
             "#440154"
            ],
            [
             0.1111111111111111,
             "#482878"
            ],
            [
             0.2222222222222222,
             "#3e4989"
            ],
            [
             0.3333333333333333,
             "#31688e"
            ],
            [
             0.4444444444444444,
             "#26828e"
            ],
            [
             0.5555555555555556,
             "#1f9e89"
            ],
            [
             0.6666666666666666,
             "#35b779"
            ],
            [
             0.7777777777777778,
             "#6ece58"
            ],
            [
             0.8888888888888888,
             "#b5de2b"
            ],
            [
             1,
             "#fde725"
            ]
           ]
          },
          "colorway": [
           "#1F77B4",
           "#FF7F0E",
           "#2CA02C",
           "#D62728",
           "#9467BD",
           "#8C564B",
           "#E377C2",
           "#7F7F7F",
           "#BCBD22",
           "#17BECF"
          ],
          "font": {
           "color": "rgb(36,36,36)"
          },
          "geo": {
           "bgcolor": "white",
           "lakecolor": "white",
           "landcolor": "white",
           "showlakes": true,
           "showland": true,
           "subunitcolor": "white"
          },
          "hoverlabel": {
           "align": "left"
          },
          "hovermode": "closest",
          "mapbox": {
           "style": "light"
          },
          "paper_bgcolor": "white",
          "plot_bgcolor": "white",
          "polar": {
           "angularaxis": {
            "gridcolor": "rgb(232,232,232)",
            "linecolor": "rgb(36,36,36)",
            "showgrid": false,
            "showline": true,
            "ticks": "outside"
           },
           "bgcolor": "white",
           "radialaxis": {
            "gridcolor": "rgb(232,232,232)",
            "linecolor": "rgb(36,36,36)",
            "showgrid": false,
            "showline": true,
            "ticks": "outside"
           }
          },
          "scene": {
           "xaxis": {
            "backgroundcolor": "white",
            "gridcolor": "rgb(232,232,232)",
            "gridwidth": 2,
            "linecolor": "rgb(36,36,36)",
            "showbackground": true,
            "showgrid": false,
            "showline": true,
            "ticks": "outside",
            "zeroline": false,
            "zerolinecolor": "rgb(36,36,36)"
           },
           "yaxis": {
            "backgroundcolor": "white",
            "gridcolor": "rgb(232,232,232)",
            "gridwidth": 2,
            "linecolor": "rgb(36,36,36)",
            "showbackground": true,
            "showgrid": false,
            "showline": true,
            "ticks": "outside",
            "zeroline": false,
            "zerolinecolor": "rgb(36,36,36)"
           },
           "zaxis": {
            "backgroundcolor": "white",
            "gridcolor": "rgb(232,232,232)",
            "gridwidth": 2,
            "linecolor": "rgb(36,36,36)",
            "showbackground": true,
            "showgrid": false,
            "showline": true,
            "ticks": "outside",
            "zeroline": false,
            "zerolinecolor": "rgb(36,36,36)"
           }
          },
          "shapedefaults": {
           "fillcolor": "black",
           "line": {
            "width": 0
           },
           "opacity": 0.3
          },
          "ternary": {
           "aaxis": {
            "gridcolor": "rgb(232,232,232)",
            "linecolor": "rgb(36,36,36)",
            "showgrid": false,
            "showline": true,
            "ticks": "outside"
           },
           "baxis": {
            "gridcolor": "rgb(232,232,232)",
            "linecolor": "rgb(36,36,36)",
            "showgrid": false,
            "showline": true,
            "ticks": "outside"
           },
           "bgcolor": "white",
           "caxis": {
            "gridcolor": "rgb(232,232,232)",
            "linecolor": "rgb(36,36,36)",
            "showgrid": false,
            "showline": true,
            "ticks": "outside"
           }
          },
          "title": {
           "x": 0.05
          },
          "xaxis": {
           "automargin": true,
           "gridcolor": "rgb(232,232,232)",
           "linecolor": "rgb(36,36,36)",
           "showgrid": false,
           "showline": true,
           "ticks": "outside",
           "title": {
            "standoff": 15
           },
           "zeroline": false,
           "zerolinecolor": "rgb(36,36,36)"
          },
          "yaxis": {
           "automargin": true,
           "gridcolor": "rgb(232,232,232)",
           "linecolor": "rgb(36,36,36)",
           "showgrid": false,
           "showline": true,
           "ticks": "outside",
           "title": {
            "standoff": 15
           },
           "zeroline": false,
           "zerolinecolor": "rgb(36,36,36)"
          }
         }
        },
        "width": 800,
        "xaxis": {
         "title": {
          "text": "H [T]"
         }
        },
        "yaxis": {
         "range": [
          0,
          1.1
         ],
         "title": {
          "text": "M"
         }
        }
       }
      }
     },
     "metadata": {},
     "output_type": "display_data"
    }
   ],
   "source": [
    "fig = go.Figure()\n",
    "fig.add_trace(go.Scatter(x=field, y=norm_moment, error_y=dict(array=sigma), mode=\"markers\", name='data'))\n",
    "\n",
    "#fig.add_annotation(text=f\"J1 = {pOpt[0]:.3f}{sc.pm}{pError[0]:.3f}, J2 = {pOpt[1]:.3f}{sc.pm}{pError[1]:.3f}\", x=1, y=0, showarrow=False, xref=\"x domain\", yref=\"y domain\")\n",
    "fig.update_xaxes(title=f\"H [T]\")\n",
    "fig.update_yaxes(title=\"M\", range=(0,1.1))\n",
    "\n",
    "fig.update_layout(legend_x=1, legend_xanchor=\"right\", legend_y=0.65, font_size=25, height=500, width=800)\n",
    "fig.show()"
   ]
  },
  {
   "cell_type": "code",
   "execution_count": 13,
   "metadata": {},
   "outputs": [
    {
     "name": "stdout",
     "output_type": "stream",
     "text": [
      "ASYMMETRIC SAMPLE\n",
      "Multilayer(symmetry='asymmetric', A1=2.84, A2=array([2.84, 2.84, 2.84, 2.84, 0.5 , 0.5 , 0.5 , 0.5 , 0.5 , 0.5 , 0.5 ,\n",
      "       0.5 , 0.5 , 0.5 , 0.5 , 0.5 , 0.5 , 0.5 , 0.5 ]), Ms1=1.389, Ms2=array([1.389, 1.389, 1.389, 1.389, 0.768, 0.768, 0.768, 0.768, 0.768,\n",
      "       0.768, 0.768, 0.768, 0.768, 0.768, 0.768, 0.768, 0.768, 0.768,\n",
      "       0.768, 0.768]))\n"
     ]
    }
   ],
   "source": [
    "N1 = 20\n",
    "N2 = 20\n",
    "a1 = 2\n",
    "x = np.arange(0, 2*N1, a1)/10\n",
    "use_energy = False\n",
    "if use_energy:\n",
    "    f = lambda H, J1, J2: energy_M(H, J1, J2, N1, N2, structure.A1, structure.A2, structure.Ms1, structure.Ms2, a1)\n",
    "    print(\"you are using the energy model!\")\n",
    "    method = \"energy\"\n",
    "    \n",
    "elif structure.symmetry == \"symmetric\":\n",
    "    print(\"SYMMETRIC SAMPLE\")\n",
    "    f = lambda H,J1,J2: torque_M(H, J1, J2, structure.A1, structure.A2, N1, N2,  structure.Ms1, structure.Ms2, a1, a1, tol=1e-7, step=1e-3, min_tol=1e-5)\n",
    "    method = \"torque\"\n",
    "else:\n",
    "    print(\"ASYMMETRIC SAMPLE\")\n",
    "    f = lambda H,J1,J2: torque_M(H, J1, J2, structure.A1, structure.A2, N1, N2, structure.Ms1, structure.Ms2, a1, a1, tol=1e-7, step=1e-3, min_tol=1e-5)\n",
    "    method = \"torque\"\n",
    "print(structure)"
   ]
  },
  {
   "cell_type": "code",
   "execution_count": 14,
   "metadata": {},
   "outputs": [
    {
     "name": "stdout",
     "output_type": "stream",
     "text": [
      "{'nfev': 16, 'fvec': array([-4.80045105e+00,  2.98096115e-03,  2.16502047e+00,  2.53537126e+00,\n",
      "        5.27017428e+00,  3.47296331e+00,  2.99659879e+00,  1.44203347e+00,\n",
      "        3.97052774e-01,  1.43342296e+00,  3.52457478e-01, -7.46136880e-02,\n",
      "       -1.00819999e+00, -5.37818026e-01, -1.69586575e+00, -1.09410708e+00,\n",
      "       -1.47470718e+00, -1.44122757e+00, -1.38583632e+00, -2.10208110e+00,\n",
      "       -2.13264176e+00, -1.78660640e+00, -3.54654750e+00, -2.72005494e+00,\n",
      "       -1.57678600e+00, -1.57256069e+00, -2.58438794e+00, -3.20750589e+00,\n",
      "       -3.67505072e+00, -2.86456602e+00, -2.29371446e+00, -2.03396690e+00,\n",
      "       -1.50603787e+00, -5.31554467e-01, -2.24453728e+00, -1.86969358e+00,\n",
      "       -6.68140360e-01, -1.12086068e+00, -3.52001240e-01,  8.55213265e-01,\n",
      "       -1.71958062e+00,  9.86221749e-01,  3.41535170e-01,  6.52111344e-01,\n",
      "        1.69915244e+00,  1.68544994e-01,  1.89249735e+00,  7.62285712e-01,\n",
      "        1.33921470e+00,  3.70905863e+00,  1.11916854e+00,  4.33754520e+00,\n",
      "        4.46670589e+00,  2.75674174e+00,  5.33971228e+00,  4.42459338e+00,\n",
      "        4.81192391e+00,  3.94382571e+00,  3.62226165e+00,  2.57782783e+00,\n",
      "        1.78346724e+00,  3.34420947e+00,  3.29049742e+00,  1.49483614e+00,\n",
      "        1.75584073e+00,  1.12861182e+00,  8.71420159e-01,  5.47809490e-01,\n",
      "        1.12680746e+00,  2.51849210e-01,  1.58523594e+00,  1.92228700e+00,\n",
      "        3.49520578e-01, -1.38442473e+00, -1.97182442e-01, -1.27696663e+00])}\n",
      "[2.97879595 1.76283397]\n",
      "[0.00529543 0.00623234]\n"
     ]
    }
   ],
   "source": [
    "# initial guesses for J1 and J2\n",
    "J1 = 2.3\n",
    "J2 = 1.1\n",
    "\n",
    "\n",
    "\n",
    "pOpt, pCov, info, msg, code = curve_fit(f, field, norm_moment, p0 = [J1,J2], full_output=True, bounds = ((0,0),(4,3)), diff_step=0.08, sigma=sigma, absolute_sigma=True)\n",
    "\n",
    "\n",
    "pError = np.sqrt(np.diag(pCov))\n",
    "print(info)\n",
    "print(pOpt)\n",
    "print(pError)"
   ]
  },
  {
   "cell_type": "code",
   "execution_count": 16,
   "metadata": {},
   "outputs": [],
   "source": [
    "y_fit = f(field, *pOpt)\n",
    "norm_res = (norm_moment-y_fit)/(sigma)\n"
   ]
  },
  {
   "cell_type": "code",
   "execution_count": 17,
   "metadata": {},
   "outputs": [
    {
     "data": {
      "application/vnd.plotly.v1+json": {
       "config": {
        "plotlyServerURL": "https://plot.ly"
       },
       "data": [
        {
         "error_y": {
          "array": [
           0.0017653774258828056,
           0.0017653774258828056,
           0.0017653774258828056,
           0.0017653774258828056,
           0.0017653774258828056,
           0.0017653774258828056,
           0.0017653774258828056,
           0.0017653774258828056,
           0.0017653774258828056,
           0.0017653774258828056,
           0.0017653774258828056,
           0.0017653774258828056,
           0.0017653774258828056,
           0.0017653774258828056,
           0.0017653774258828056,
           0.0017653774258828056,
           0.0017653774258828056,
           0.0017653774258828056,
           0.0017653774258828056,
           0.0017653774258828056,
           0.0017653774258828056,
           0.0017653774258828056,
           0.0017653774258828056,
           0.0017653774258828056,
           0.0017653774258828056,
           0.0017653774258828056,
           0.0017653774258828056,
           0.0017653774258828056,
           0.0017653774258828056,
           0.0017653774258828056,
           0.0017653774258828056,
           0.0017653774258828056,
           0.0017653774258828056,
           0.0017653774258828056,
           0.0017653774258828056,
           0.0017653774258828056,
           0.0017653774258828056,
           0.0017653774258828056,
           0.0017653774258828056,
           0.0017653774258828056,
           0.0017653774258828056,
           0.0017653774258828056,
           0.0017653774258828056,
           0.0017653774258828056,
           0.0017653774258828056,
           0.0017653774258828056,
           0.0017653774258828056,
           0.0017653774258828056,
           0.0017653774258828056,
           0.0017653774258828056,
           0.0017653774258828056,
           0.0017653774258828056,
           0.0017653774258828056,
           0.0017653774258828056,
           0.0017653774258828056,
           0.0017653774258828056,
           0.0017653774258828056,
           0.0017653774258828056,
           0.0017653774258828056,
           0.0017653774258828056,
           0.0017653774258828056,
           0.0017653774258828056,
           0.0017653774258828056,
           0.0017653774258828056,
           0.0017653774258828056,
           0.0017653774258828056,
           0.0017653774258828056,
           0.0017653774258828056,
           0.0017653774258828056,
           0.0017653774258828056,
           0.0017653774258828056,
           0.0017653774258828056,
           0.0017653774258828056,
           0.0017653774258828056,
           0.0017653774258828056,
           0.0017653774258828056
          ]
         },
         "mode": "markers",
         "name": "data",
         "type": "scatter",
         "x": [
          0.201295,
          0.284447,
          0.363044,
          0.44548,
          0.52593,
          0.607286,
          0.685714,
          0.768665,
          0.84931,
          0.929553,
          1.00927,
          1.09162,
          1.17049,
          1.24927,
          1.32855,
          1.40949,
          1.48899,
          1.57622,
          1.65848,
          1.7367,
          1.81993,
          1.89761,
          1.98132,
          2.06177,
          2.14295,
          2.21987,
          2.30344,
          2.38674,
          2.46496,
          2.54789,
          2.62632,
          2.70984,
          2.78899,
          2.87039,
          2.94946,
          3.03224,
          3.11143,
          3.1933,
          3.2717,
          3.35531,
          3.43197,
          3.51524,
          3.59877,
          3.67743,
          3.76005,
          3.83928,
          3.92194,
          3.99997,
          4.08001,
          4.16313,
          4.24079,
          4.32398,
          4.40276,
          4.4851,
          4.56256,
          4.64952,
          4.72867,
          4.81259,
          4.89183,
          4.977,
          5.06269,
          5.14136,
          5.22652,
          5.30603,
          5.39342,
          5.4699,
          5.55735,
          5.64244,
          5.72154,
          5.80963,
          5.88747,
          5.97857,
          6.0547,
          6.14804,
          6.23327,
          6.31215
         ],
         "y": [
          0.5207510282132872,
          0.5560527607763759,
          0.5875841602147376,
          0.6192839984097058,
          0.642339448151697,
          0.6706817137133927,
          0.6933704134944528,
          0.7170273749666533,
          0.7373394874142365,
          0.7523004687323533,
          0.7695161389590793,
          0.7848151589615402,
          0.7993215253501414,
          0.8104003413505417,
          0.8235836913612885,
          0.8331059341078083,
          0.8434749453439395,
          0.8533363004987643,
          0.8619696270179812,
          0.871026264771217,
          0.8788736097254902,
          0.8851124091888539,
          0.8951810254833797,
          0.9000355120302197,
          0.9040435899133544,
          0.9094514528052349,
          0.9168206229201367,
          0.9231972444600627,
          0.9287346226824862,
          0.9320609486174717,
          0.9353422666183695,
          0.9392413586982336,
          0.9422531108814447,
          0.9444121932222288,
          0.9510441724810063,
          0.9540008947431751,
          0.9551985553258326,
          0.9592911862108043,
          0.9609641120645327,
          0.9619391143093157,
          0.9692252401811489,
          0.9673156282034567,
          0.9712213266436166,
          0.9731853597481417,
          0.9738829222659118,
          0.9789418608003434,
          0.9782735267896832,
          0.9824362724566076,
          0.9835695917885319,
          0.9815476241971703,
          0.9880755437104873,
          0.9844237301939662,
          0.9860586251776193,
          0.9909656429473946,
          0.9881296775858021,
          0.9916227953420216,
          0.9915051381459119,
          0.9930376591254954,
          0.9936053410479108,
          0.9954491609461563,
          0.996851507193099,
          0.994096208086776,
          0.9941910301313245,
          0.9973610500297727,
          0.996900278407388,
          0.998007574173774,
          0.9984616145226342,
          0.9990329094931333,
          0.9980107595446601,
          0.9995553910894872,
          0.9972014602639931,
          0.9966064379189565,
          0.9993829642624702,
          1.002444032163212,
          1.000348101431985,
          1.0022543280575436
         ]
        },
        {
         "line": {
          "color": "red"
         },
         "mode": "lines",
         "name": "fit",
         "type": "scatter",
         "x": [
          0.201295,
          0.284447,
          0.363044,
          0.44548,
          0.52593,
          0.607286,
          0.685714,
          0.768665,
          0.84931,
          0.929553,
          1.00927,
          1.09162,
          1.17049,
          1.24927,
          1.32855,
          1.40949,
          1.48899,
          1.57622,
          1.65848,
          1.7367,
          1.81993,
          1.89761,
          1.98132,
          2.06177,
          2.14295,
          2.21987,
          2.30344,
          2.38674,
          2.46496,
          2.54789,
          2.62632,
          2.70984,
          2.78899,
          2.87039,
          2.94946,
          3.03224,
          3.11143,
          3.1933,
          3.2717,
          3.35531,
          3.43197,
          3.51524,
          3.59877,
          3.67743,
          3.76005,
          3.83928,
          3.92194,
          3.99997,
          4.08001,
          4.16313,
          4.24079,
          4.32398,
          4.40276,
          4.4851,
          4.56256,
          4.64952,
          4.72867,
          4.81259,
          4.89183,
          4.977,
          5.06269,
          5.14136,
          5.22652,
          5.30603,
          5.39342,
          5.4699,
          5.55735,
          5.64244,
          5.72154,
          5.80963,
          5.88747,
          5.97857,
          6.0547,
          6.14804,
          6.23327,
          6.31215
         ],
         "y": [
          0.5122764202911778,
          0.5560580232978971,
          0.5914062384872409,
          0.6237598855988065,
          0.6516432948580498,
          0.6768128047362346,
          0.6986605413612277,
          0.719573108303551,
          0.7380404354186313,
          0.7548310012758609,
          0.7701383594334951,
          0.7846834376411225,
          0.7975416718393158,
          0.8094508895483911,
          0.8205898482404906,
          0.8311744221742039,
          0.8408715305740313,
          0.8507919898837407,
          0.8595231028672544,
          0.867315298248321,
          0.8751086921053418,
          0.881958374578458,
          0.8889200305874658,
          0.8952335884379139,
          0.9012599675079056,
          0.9066752896544877,
          0.9122582027897933,
          0.9175347859698585,
          0.9222467711001476,
          0.9270039084391268,
          0.9312929948859344,
          0.9356506394556694,
          0.9395943856147322,
          0.9434737989647802,
          0.9470817170272564,
          0.9507001798997889,
          0.9540190354161345,
          0.9573124440719759,
          0.9603426970218798,
          0.963448888500946,
          0.9661895313717138,
          0.969056681816114,
          0.9718242651220322,
          0.9743365823938154,
          0.9768825676293998,
          0.9792394063272076,
          0.9816144988879666,
          0.9837819944446621,
          0.9859338111932962,
          0.988095512573356,
          0.9900512985923601,
          0.9920811345716777,
          0.9939440469204643,
          0.9958323325808182,
          0.9975562851119906,
          0.9994338726051122,
          1,
          1,
          1,
          1,
          1,
          1,
          1,
          1,
          1,
          1,
          1,
          1,
          1,
          1,
          1,
          1,
          1,
          1,
          1,
          1
         ]
        },
        {
         "marker": {
          "color": "black"
         },
         "mode": "markers",
         "showlegend": false,
         "type": "scatter",
         "x": [
          0.201295,
          0.284447,
          0.363044,
          0.44548,
          0.52593,
          0.607286,
          0.685714,
          0.768665,
          0.84931,
          0.929553,
          1.00927,
          1.09162,
          1.17049,
          1.24927,
          1.32855,
          1.40949,
          1.48899,
          1.57622,
          1.65848,
          1.7367,
          1.81993,
          1.89761,
          1.98132,
          2.06177,
          2.14295,
          2.21987,
          2.30344,
          2.38674,
          2.46496,
          2.54789,
          2.62632,
          2.70984,
          2.78899,
          2.87039,
          2.94946,
          3.03224,
          3.11143,
          3.1933,
          3.2717,
          3.35531,
          3.43197,
          3.51524,
          3.59877,
          3.67743,
          3.76005,
          3.83928,
          3.92194,
          3.99997,
          4.08001,
          4.16313,
          4.24079,
          4.32398,
          4.40276,
          4.4851,
          4.56256,
          4.64952,
          4.72867,
          4.81259,
          4.89183,
          4.977,
          5.06269,
          5.14136,
          5.22652,
          5.30603,
          5.39342,
          5.4699,
          5.55735,
          5.64244,
          5.72154,
          5.80963,
          5.88747,
          5.97857,
          6.0547,
          6.14804,
          6.23327,
          6.31215
         ],
         "xaxis": "x2",
         "y": [
          4.8004510524833215,
          -0.0029809611497605766,
          -2.1650204746399018,
          -2.5353712602631675,
          -5.270174281117439,
          -3.4729633068554597,
          -2.996598794804141,
          -1.4420334709019782,
          -0.3970527741648653,
          -1.4334229646343828,
          -0.3524574775303837,
          0.07461368797771506,
          1.0081999943641586,
          0.5378180258965759,
          1.695865754769549,
          1.0941070760766802,
          1.474707182576745,
          1.441227568519099,
          1.3858363174114712,
          2.1020811008956417,
          2.132641759744777,
          1.786606401641647,
          3.5465474997693516,
          2.7200549423047717,
          1.5767859975080576,
          1.5725606944129071,
          2.5843879407610792,
          3.2075058892137966,
          3.675050721289358,
          2.8645660152904675,
          2.2937144618863434,
          2.033966895644742,
          1.506037874809108,
          0.531554467441608,
          2.2445372845800136,
          1.869693582229616,
          0.6681403604717979,
          1.12086067818553,
          0.35200123981541603,
          -0.8552132645943147,
          1.7195806205106476,
          -0.9862217490328812,
          -0.3415351695199844,
          -0.6521113438946354,
          -1.6991524415738164,
          -0.16854499355311323,
          -1.892497348895649,
          -0.762285712009455,
          -1.339214702817451,
          -3.709058629721244,
          -1.1191685431712879,
          -4.337545198802031,
          -4.4667058880634425,
          -2.7567417380959474,
          -5.339712283606768,
          -4.4245933750877935,
          -4.811923914706287,
          -3.943825706858699,
          -3.6222616525706877,
          -2.577827827138981,
          -1.7834672409082937,
          -3.3442094742271338,
          -3.2904974219723284,
          -1.4948361361920321,
          -1.7558407325061909,
          -1.128611818081738,
          -0.8714201591178441,
          -0.547809489737363,
          -1.1268074612119434,
          -0.2518492102562461,
          -1.585235935940101,
          -1.9222870029316594,
          -0.3495205775735148,
          1.3844247283210878,
          0.19718244205540048,
          1.2769666273580222
         ],
         "yaxis": "y2"
        }
       ],
       "layout": {
        "font": {
         "size": 25
        },
        "height": 700,
        "legend": {
         "x": 1,
         "xanchor": "right",
         "y": 0.65
        },
        "template": {
         "data": {
          "bar": [
           {
            "error_x": {
             "color": "rgb(36,36,36)"
            },
            "error_y": {
             "color": "rgb(36,36,36)"
            },
            "marker": {
             "line": {
              "color": "white",
              "width": 0.5
             },
             "pattern": {
              "fillmode": "overlay",
              "size": 10,
              "solidity": 0.2
             }
            },
            "type": "bar"
           }
          ],
          "barpolar": [
           {
            "marker": {
             "line": {
              "color": "white",
              "width": 0.5
             },
             "pattern": {
              "fillmode": "overlay",
              "size": 10,
              "solidity": 0.2
             }
            },
            "type": "barpolar"
           }
          ],
          "carpet": [
           {
            "aaxis": {
             "endlinecolor": "rgb(36,36,36)",
             "gridcolor": "white",
             "linecolor": "white",
             "minorgridcolor": "white",
             "startlinecolor": "rgb(36,36,36)"
            },
            "baxis": {
             "endlinecolor": "rgb(36,36,36)",
             "gridcolor": "white",
             "linecolor": "white",
             "minorgridcolor": "white",
             "startlinecolor": "rgb(36,36,36)"
            },
            "type": "carpet"
           }
          ],
          "choropleth": [
           {
            "colorbar": {
             "outlinewidth": 1,
             "tickcolor": "rgb(36,36,36)",
             "ticks": "outside"
            },
            "type": "choropleth"
           }
          ],
          "contour": [
           {
            "colorbar": {
             "outlinewidth": 1,
             "tickcolor": "rgb(36,36,36)",
             "ticks": "outside"
            },
            "colorscale": [
             [
              0,
              "#440154"
             ],
             [
              0.1111111111111111,
              "#482878"
             ],
             [
              0.2222222222222222,
              "#3e4989"
             ],
             [
              0.3333333333333333,
              "#31688e"
             ],
             [
              0.4444444444444444,
              "#26828e"
             ],
             [
              0.5555555555555556,
              "#1f9e89"
             ],
             [
              0.6666666666666666,
              "#35b779"
             ],
             [
              0.7777777777777778,
              "#6ece58"
             ],
             [
              0.8888888888888888,
              "#b5de2b"
             ],
             [
              1,
              "#fde725"
             ]
            ],
            "type": "contour"
           }
          ],
          "contourcarpet": [
           {
            "colorbar": {
             "outlinewidth": 1,
             "tickcolor": "rgb(36,36,36)",
             "ticks": "outside"
            },
            "type": "contourcarpet"
           }
          ],
          "heatmap": [
           {
            "colorbar": {
             "outlinewidth": 1,
             "tickcolor": "rgb(36,36,36)",
             "ticks": "outside"
            },
            "colorscale": [
             [
              0,
              "#440154"
             ],
             [
              0.1111111111111111,
              "#482878"
             ],
             [
              0.2222222222222222,
              "#3e4989"
             ],
             [
              0.3333333333333333,
              "#31688e"
             ],
             [
              0.4444444444444444,
              "#26828e"
             ],
             [
              0.5555555555555556,
              "#1f9e89"
             ],
             [
              0.6666666666666666,
              "#35b779"
             ],
             [
              0.7777777777777778,
              "#6ece58"
             ],
             [
              0.8888888888888888,
              "#b5de2b"
             ],
             [
              1,
              "#fde725"
             ]
            ],
            "type": "heatmap"
           }
          ],
          "heatmapgl": [
           {
            "colorbar": {
             "outlinewidth": 1,
             "tickcolor": "rgb(36,36,36)",
             "ticks": "outside"
            },
            "colorscale": [
             [
              0,
              "#440154"
             ],
             [
              0.1111111111111111,
              "#482878"
             ],
             [
              0.2222222222222222,
              "#3e4989"
             ],
             [
              0.3333333333333333,
              "#31688e"
             ],
             [
              0.4444444444444444,
              "#26828e"
             ],
             [
              0.5555555555555556,
              "#1f9e89"
             ],
             [
              0.6666666666666666,
              "#35b779"
             ],
             [
              0.7777777777777778,
              "#6ece58"
             ],
             [
              0.8888888888888888,
              "#b5de2b"
             ],
             [
              1,
              "#fde725"
             ]
            ],
            "type": "heatmapgl"
           }
          ],
          "histogram": [
           {
            "marker": {
             "line": {
              "color": "white",
              "width": 0.6
             }
            },
            "type": "histogram"
           }
          ],
          "histogram2d": [
           {
            "colorbar": {
             "outlinewidth": 1,
             "tickcolor": "rgb(36,36,36)",
             "ticks": "outside"
            },
            "colorscale": [
             [
              0,
              "#440154"
             ],
             [
              0.1111111111111111,
              "#482878"
             ],
             [
              0.2222222222222222,
              "#3e4989"
             ],
             [
              0.3333333333333333,
              "#31688e"
             ],
             [
              0.4444444444444444,
              "#26828e"
             ],
             [
              0.5555555555555556,
              "#1f9e89"
             ],
             [
              0.6666666666666666,
              "#35b779"
             ],
             [
              0.7777777777777778,
              "#6ece58"
             ],
             [
              0.8888888888888888,
              "#b5de2b"
             ],
             [
              1,
              "#fde725"
             ]
            ],
            "type": "histogram2d"
           }
          ],
          "histogram2dcontour": [
           {
            "colorbar": {
             "outlinewidth": 1,
             "tickcolor": "rgb(36,36,36)",
             "ticks": "outside"
            },
            "colorscale": [
             [
              0,
              "#440154"
             ],
             [
              0.1111111111111111,
              "#482878"
             ],
             [
              0.2222222222222222,
              "#3e4989"
             ],
             [
              0.3333333333333333,
              "#31688e"
             ],
             [
              0.4444444444444444,
              "#26828e"
             ],
             [
              0.5555555555555556,
              "#1f9e89"
             ],
             [
              0.6666666666666666,
              "#35b779"
             ],
             [
              0.7777777777777778,
              "#6ece58"
             ],
             [
              0.8888888888888888,
              "#b5de2b"
             ],
             [
              1,
              "#fde725"
             ]
            ],
            "type": "histogram2dcontour"
           }
          ],
          "mesh3d": [
           {
            "colorbar": {
             "outlinewidth": 1,
             "tickcolor": "rgb(36,36,36)",
             "ticks": "outside"
            },
            "type": "mesh3d"
           }
          ],
          "parcoords": [
           {
            "line": {
             "colorbar": {
              "outlinewidth": 1,
              "tickcolor": "rgb(36,36,36)",
              "ticks": "outside"
             }
            },
            "type": "parcoords"
           }
          ],
          "pie": [
           {
            "automargin": true,
            "type": "pie"
           }
          ],
          "scatter": [
           {
            "fillpattern": {
             "fillmode": "overlay",
             "size": 10,
             "solidity": 0.2
            },
            "type": "scatter"
           }
          ],
          "scatter3d": [
           {
            "line": {
             "colorbar": {
              "outlinewidth": 1,
              "tickcolor": "rgb(36,36,36)",
              "ticks": "outside"
             }
            },
            "marker": {
             "colorbar": {
              "outlinewidth": 1,
              "tickcolor": "rgb(36,36,36)",
              "ticks": "outside"
             }
            },
            "type": "scatter3d"
           }
          ],
          "scattercarpet": [
           {
            "marker": {
             "colorbar": {
              "outlinewidth": 1,
              "tickcolor": "rgb(36,36,36)",
              "ticks": "outside"
             }
            },
            "type": "scattercarpet"
           }
          ],
          "scattergeo": [
           {
            "marker": {
             "colorbar": {
              "outlinewidth": 1,
              "tickcolor": "rgb(36,36,36)",
              "ticks": "outside"
             }
            },
            "type": "scattergeo"
           }
          ],
          "scattergl": [
           {
            "marker": {
             "colorbar": {
              "outlinewidth": 1,
              "tickcolor": "rgb(36,36,36)",
              "ticks": "outside"
             }
            },
            "type": "scattergl"
           }
          ],
          "scattermapbox": [
           {
            "marker": {
             "colorbar": {
              "outlinewidth": 1,
              "tickcolor": "rgb(36,36,36)",
              "ticks": "outside"
             }
            },
            "type": "scattermapbox"
           }
          ],
          "scatterpolar": [
           {
            "marker": {
             "colorbar": {
              "outlinewidth": 1,
              "tickcolor": "rgb(36,36,36)",
              "ticks": "outside"
             }
            },
            "type": "scatterpolar"
           }
          ],
          "scatterpolargl": [
           {
            "marker": {
             "colorbar": {
              "outlinewidth": 1,
              "tickcolor": "rgb(36,36,36)",
              "ticks": "outside"
             }
            },
            "type": "scatterpolargl"
           }
          ],
          "scatterternary": [
           {
            "marker": {
             "colorbar": {
              "outlinewidth": 1,
              "tickcolor": "rgb(36,36,36)",
              "ticks": "outside"
             }
            },
            "type": "scatterternary"
           }
          ],
          "surface": [
           {
            "colorbar": {
             "outlinewidth": 1,
             "tickcolor": "rgb(36,36,36)",
             "ticks": "outside"
            },
            "colorscale": [
             [
              0,
              "#440154"
             ],
             [
              0.1111111111111111,
              "#482878"
             ],
             [
              0.2222222222222222,
              "#3e4989"
             ],
             [
              0.3333333333333333,
              "#31688e"
             ],
             [
              0.4444444444444444,
              "#26828e"
             ],
             [
              0.5555555555555556,
              "#1f9e89"
             ],
             [
              0.6666666666666666,
              "#35b779"
             ],
             [
              0.7777777777777778,
              "#6ece58"
             ],
             [
              0.8888888888888888,
              "#b5de2b"
             ],
             [
              1,
              "#fde725"
             ]
            ],
            "type": "surface"
           }
          ],
          "table": [
           {
            "cells": {
             "fill": {
              "color": "rgb(237,237,237)"
             },
             "line": {
              "color": "white"
             }
            },
            "header": {
             "fill": {
              "color": "rgb(217,217,217)"
             },
             "line": {
              "color": "white"
             }
            },
            "type": "table"
           }
          ]
         },
         "layout": {
          "annotationdefaults": {
           "arrowhead": 0,
           "arrowwidth": 1
          },
          "autotypenumbers": "strict",
          "coloraxis": {
           "colorbar": {
            "outlinewidth": 1,
            "tickcolor": "rgb(36,36,36)",
            "ticks": "outside"
           }
          },
          "colorscale": {
           "diverging": [
            [
             0,
             "rgb(103,0,31)"
            ],
            [
             0.1,
             "rgb(178,24,43)"
            ],
            [
             0.2,
             "rgb(214,96,77)"
            ],
            [
             0.3,
             "rgb(244,165,130)"
            ],
            [
             0.4,
             "rgb(253,219,199)"
            ],
            [
             0.5,
             "rgb(247,247,247)"
            ],
            [
             0.6,
             "rgb(209,229,240)"
            ],
            [
             0.7,
             "rgb(146,197,222)"
            ],
            [
             0.8,
             "rgb(67,147,195)"
            ],
            [
             0.9,
             "rgb(33,102,172)"
            ],
            [
             1,
             "rgb(5,48,97)"
            ]
           ],
           "sequential": [
            [
             0,
             "#440154"
            ],
            [
             0.1111111111111111,
             "#482878"
            ],
            [
             0.2222222222222222,
             "#3e4989"
            ],
            [
             0.3333333333333333,
             "#31688e"
            ],
            [
             0.4444444444444444,
             "#26828e"
            ],
            [
             0.5555555555555556,
             "#1f9e89"
            ],
            [
             0.6666666666666666,
             "#35b779"
            ],
            [
             0.7777777777777778,
             "#6ece58"
            ],
            [
             0.8888888888888888,
             "#b5de2b"
            ],
            [
             1,
             "#fde725"
            ]
           ],
           "sequentialminus": [
            [
             0,
             "#440154"
            ],
            [
             0.1111111111111111,
             "#482878"
            ],
            [
             0.2222222222222222,
             "#3e4989"
            ],
            [
             0.3333333333333333,
             "#31688e"
            ],
            [
             0.4444444444444444,
             "#26828e"
            ],
            [
             0.5555555555555556,
             "#1f9e89"
            ],
            [
             0.6666666666666666,
             "#35b779"
            ],
            [
             0.7777777777777778,
             "#6ece58"
            ],
            [
             0.8888888888888888,
             "#b5de2b"
            ],
            [
             1,
             "#fde725"
            ]
           ]
          },
          "colorway": [
           "#1F77B4",
           "#FF7F0E",
           "#2CA02C",
           "#D62728",
           "#9467BD",
           "#8C564B",
           "#E377C2",
           "#7F7F7F",
           "#BCBD22",
           "#17BECF"
          ],
          "font": {
           "color": "rgb(36,36,36)"
          },
          "geo": {
           "bgcolor": "white",
           "lakecolor": "white",
           "landcolor": "white",
           "showlakes": true,
           "showland": true,
           "subunitcolor": "white"
          },
          "hoverlabel": {
           "align": "left"
          },
          "hovermode": "closest",
          "mapbox": {
           "style": "light"
          },
          "paper_bgcolor": "white",
          "plot_bgcolor": "white",
          "polar": {
           "angularaxis": {
            "gridcolor": "rgb(232,232,232)",
            "linecolor": "rgb(36,36,36)",
            "showgrid": false,
            "showline": true,
            "ticks": "outside"
           },
           "bgcolor": "white",
           "radialaxis": {
            "gridcolor": "rgb(232,232,232)",
            "linecolor": "rgb(36,36,36)",
            "showgrid": false,
            "showline": true,
            "ticks": "outside"
           }
          },
          "scene": {
           "xaxis": {
            "backgroundcolor": "white",
            "gridcolor": "rgb(232,232,232)",
            "gridwidth": 2,
            "linecolor": "rgb(36,36,36)",
            "showbackground": true,
            "showgrid": false,
            "showline": true,
            "ticks": "outside",
            "zeroline": false,
            "zerolinecolor": "rgb(36,36,36)"
           },
           "yaxis": {
            "backgroundcolor": "white",
            "gridcolor": "rgb(232,232,232)",
            "gridwidth": 2,
            "linecolor": "rgb(36,36,36)",
            "showbackground": true,
            "showgrid": false,
            "showline": true,
            "ticks": "outside",
            "zeroline": false,
            "zerolinecolor": "rgb(36,36,36)"
           },
           "zaxis": {
            "backgroundcolor": "white",
            "gridcolor": "rgb(232,232,232)",
            "gridwidth": 2,
            "linecolor": "rgb(36,36,36)",
            "showbackground": true,
            "showgrid": false,
            "showline": true,
            "ticks": "outside",
            "zeroline": false,
            "zerolinecolor": "rgb(36,36,36)"
           }
          },
          "shapedefaults": {
           "fillcolor": "black",
           "line": {
            "width": 0
           },
           "opacity": 0.3
          },
          "ternary": {
           "aaxis": {
            "gridcolor": "rgb(232,232,232)",
            "linecolor": "rgb(36,36,36)",
            "showgrid": false,
            "showline": true,
            "ticks": "outside"
           },
           "baxis": {
            "gridcolor": "rgb(232,232,232)",
            "linecolor": "rgb(36,36,36)",
            "showgrid": false,
            "showline": true,
            "ticks": "outside"
           },
           "bgcolor": "white",
           "caxis": {
            "gridcolor": "rgb(232,232,232)",
            "linecolor": "rgb(36,36,36)",
            "showgrid": false,
            "showline": true,
            "ticks": "outside"
           }
          },
          "title": {
           "x": 0.05
          },
          "xaxis": {
           "automargin": true,
           "gridcolor": "rgb(232,232,232)",
           "linecolor": "rgb(36,36,36)",
           "showgrid": false,
           "showline": true,
           "ticks": "outside",
           "title": {
            "standoff": 15
           },
           "zeroline": false,
           "zerolinecolor": "rgb(36,36,36)"
          },
          "yaxis": {
           "automargin": true,
           "gridcolor": "rgb(232,232,232)",
           "linecolor": "rgb(36,36,36)",
           "showgrid": false,
           "showline": true,
           "ticks": "outside",
           "title": {
            "standoff": 15
           },
           "zeroline": false,
           "zerolinecolor": "rgb(36,36,36)"
          }
         }
        },
        "width": 1200,
        "xaxis": {
         "anchor": "y",
         "domain": [
          0,
          1
         ],
         "matches": "x2",
         "showticklabels": false
        },
        "xaxis2": {
         "anchor": "y2",
         "domain": [
          0,
          1
         ],
         "title": {
          "text": "H [T]"
         }
        },
        "yaxis": {
         "anchor": "x",
         "domain": [
          0.43,
          1
         ],
         "range": [
          0,
          1.1
         ],
         "title": {
          "text": "M"
         }
        },
        "yaxis2": {
         "anchor": "x2",
         "domain": [
          0,
          0.38
         ],
         "range": [
          -5.873683511967445,
          5.873683511967445
         ],
         "title": {
          "text": "Norm. Res."
         }
        }
       }
      }
     },
     "metadata": {},
     "output_type": "display_data"
    }
   ],
   "source": [
    "fig = go.Figure().set_subplots(rows=2, cols=1, row_heights=(0.6,0.4), shared_xaxes=True, vertical_spacing=0.05)\n",
    "fig.add_trace(go.Scatter(x=field, y=norm_moment, error_y=dict(array=sigma), mode=\"markers\", name='data'))\n",
    "fig.add_trace(go.Scatter(x=field, y=y_fit, mode=\"lines\", line_color='red', name='fit'))\n",
    "fig.add_trace(go.Scatter(x=field, y=norm_res, mode=\"markers\", marker_color='black', showlegend=False), row=2, col=1)\n",
    "#fig.add_annotation(text=f\"J1 = {pOpt[0]:.3f}{sc.pm}{pError[0]:.3f}, J2 = {pOpt[1]:.3f}{sc.pm}{pError[1]:.3f}\", x=1, y=0, showarrow=False, xref=\"x domain\", yref=\"y domain\")\n",
    "fig.update_xaxes(title=f\"H [T]\", row=2, col=1)\n",
    "fig.update_yaxes(title=\"M\", range=(0,1.1), row=1, col=1)\n",
    "fig.update_yaxes(title=\"Norm. Res.\", row=2, col=1, range=(-1.1*max(abs(norm_res)), 1.1*max(abs(norm_res))))\n",
    "fig.update_layout(legend_x=1, legend_xanchor=\"right\", legend_y=0.65, height=700, width=1200, font_size=25)\n",
    "fig.show()\n"
   ]
  },
  {
   "cell_type": "code",
   "execution_count": null,
   "metadata": {},
   "outputs": [],
   "source": []
  }
 ],
 "metadata": {
  "kernelspec": {
   "display_name": "mypython3",
   "language": "python",
   "name": "python3"
  },
  "language_info": {
   "codemirror_mode": {
    "name": "ipython",
    "version": 3
   },
   "file_extension": ".py",
   "mimetype": "text/x-python",
   "name": "python",
   "nbconvert_exporter": "python",
   "pygments_lexer": "ipython3",
   "version": "3.10.4"
  }
 },
 "nbformat": 4,
 "nbformat_minor": 2
}
